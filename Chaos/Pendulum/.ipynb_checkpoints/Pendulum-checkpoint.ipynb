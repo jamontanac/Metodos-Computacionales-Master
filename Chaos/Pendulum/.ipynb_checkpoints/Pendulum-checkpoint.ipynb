{
 "cells": [
  {
   "cell_type": "markdown",
   "metadata": {
    "slideshow": {
     "slide_type": "slide"
    }
   },
   "source": [
    "#  Discrete dynamics, maps\n",
    "#  and symplectic integrators (Why to use them) (Part 2)"
   ]
  },
  {
   "cell_type": "markdown",
   "metadata": {
    "slideshow": {
     "slide_type": "slide"
    }
   },
   "source": [
    "## Problem: Study the dynamics of an oscillator:\n",
    "The pendulum equation goes as,\n",
    "$$\n",
    "\\frac{d^2\\theta(t)}{dt^2} + \\omega_{0}^2\\sin(\\theta(t))= 0\n",
    "$$\n",
    "But. if we consider the case of small oscillations we can do $\\sin(\\theta)\\approx \\theta$, so we get a harmonic oscillator equation,\n",
    "\n",
    "$$\n",
    "\\frac{d^2\\theta(t)}{dt^2} + \\omega_{0}^2\\theta(t)= 0\n",
    "$$\n",
    "and the solution is\n",
    "$$\\theta(t)=A\\sin(\\omega_0 t + \\delta)$$\n",
    "But what happen if we add friction and even more an external force such that oscillates at a frequency different than the natural frequency of the system. Our complete equation will be:\n",
    "\n",
    "$$\n",
    "\\frac{d^2\\theta(t)}{dt^2}+\\gamma \\frac{d\\theta(t)}{dt} + \\omega_0^2\\sin(\\theta(t)) = F(t)\n",
    "$$\n",
    "Maybe we could have a guess of its solution but how can we calculate it analytically?"
   ]
  },
  {
   "cell_type": "markdown",
   "metadata": {
    "slideshow": {
     "slide_type": "slide"
    }
   },
   "source": [
    "# Euler method\n",
    "Let's consider the specific case of a differential equation of first order\n",
    "$$\n",
    "\\frac{dx(t)}{dt} = f(x,t)\n",
    "$$\n",
    "The Taylor expansion of $x(t)$ is\n",
    "$$\n",
    "x(t+h)=x(t) + \\frac{dx(t)}{dt} h+ \\frac{1}{2!}\\frac{d^2x(t)}{dt^2}h^2+\\ldots\n",
    "$$\n",
    "If we consider $h$ small we can take the first order approximation\n",
    "$$x(t+h)\\approx x(t) + \\frac{dx(t)}{dt}\\quad \\longrightarrow \\quad \\frac{dx(t)}{dt}=\\frac{x(t+h)-x(t)}{h}\n",
    "$$"
   ]
  },
  {
   "cell_type": "markdown",
   "metadata": {
    "slideshow": {
     "slide_type": "slide"
    }
   },
   "source": [
    "Therefore, the solution of our differential equation using Euler method is given by\n",
    "\n",
    "$$ \\frac{dx(t)}{dt}=f(x,t)$$\n",
    "$$x(t+h)=x(t)+hf(x,t) $$"
   ]
  },
  {
   "cell_type": "markdown",
   "metadata": {
    "slideshow": {
     "slide_type": "slide"
    }
   },
   "source": [
    "# Higher order differential equations\n",
    "If we do the same as before, for example in a second order ODE, it is necessary to know the first derivative,\n",
    "$$\n",
    "\\frac{d^2 x}{dt^2} = f(x,\\dot{x},t)\n",
    "$$\n",
    "with $\\dot{x}=dx/dt$. If we take $v=\\dot{x}$, we get\n",
    "$$\n",
    "\\frac{d^2 x}{dt^2} = \\frac{d v}{dt} = f(x,v,t)\n",
    "$$\n",
    "So we have to solve the system\n",
    "\n",
    "$$\n",
    "\\begin{array}{l}{\\frac{d x}{d t}=v} \\\\ {\\frac{d v}{d t}=f(x, v, t)}\\end{array}\n",
    "$$\n",
    "\n",
    "therefore, the Euler method for two order differential equation is\n",
    "$$\n",
    "\\begin{array}{l}{x_{i+1}=x_{i}+h v_{i}} \\\\ {v_{i+1}=v_{i}+h f\\left(x_{i}, v_{i}, t_{i}\\right)}\\end{array}\n",
    "$$"
   ]
  },
  {
   "cell_type": "markdown",
   "metadata": {
    "slideshow": {
     "slide_type": "slide"
    }
   },
   "source": [
    "# Symplectic integrator of order $O(h^2)$ [ref](https://en.wikipedia.org/wiki/Symplectic_integrator)\n",
    "\n",
    "Symplectic integrators are designed for the numerical solution of Hamilton's equations, which read\n",
    "\n",
    "$${\\dot {p}}=-{\\frac {\\partial H}{\\partial q}}\\quad {\\mbox{and}}\\quad {\\dot {q}}={\\frac {\\partial H}{\\partial p}},$$\n",
    "where $q$ denotes the position coordinates, $p$ the momentum coordinates, and $H$ is the Hamiltonian. The set of position and momentum coordinates $(q,p)$ are called canonical coordinates.\n",
    "\n",
    "The time evolution of Hamilton's equations is a symplectomorphism, meaning that it conserves the symplectic two-form $dp\\wedge dq$. A numerical scheme is a symplectic integrator if it also conserves this two-form."
   ]
  },
  {
   "cell_type": "markdown",
   "metadata": {
    "slideshow": {
     "slide_type": "slide"
    }
   },
   "source": [
    "# Euler Cromer\n",
    "A variation of the Euler method is the Euler-Cromer method, it is also called modified Euler,\n",
    "$$\n",
    "\\begin{array}{l}{v_{i+1}=v_{i}+h f\\left(x_{i}, v_{i}, t_{i}\\right)} \\\\ {x_{i+1}=x_{i}+h v_{i+1}}\\end{array}\n",
    "$$"
   ]
  },
  {
   "cell_type": "markdown",
   "metadata": {
    "slideshow": {
     "slide_type": "slide"
    }
   },
   "source": [
    "This method belongs to a family of methods called Symplectic i.e preserves energy.\n",
    "\n",
    "Now going back to our problem we ask ourself the solution of the general case of the harmonic oscillator\n",
    "\n",
    "$$\n",
    "\\frac{d^2\\theta(t)}{dt^2}+\\gamma \\frac{d\\theta(t)}{dt} + \\omega_0^2\\sin(\\theta(t)) = F(t)\n",
    "$$\n",
    "\n",
    "with $F(t) = F \\sin(\\Omega t +\\delta)$."
   ]
  },
  {
   "cell_type": "markdown",
   "metadata": {
    "slideshow": {
     "slide_type": "slide"
    }
   },
   "source": [
    "# Lyapunov Exponents and the dependence of initial conditions\n",
    "\n",
    "The most important feature for a chaotic system is its sensitivity to initial conditions.\n",
    "\n",
    "In order to quantify the difference between two initially nearby paths, we will define what is know as a Lyapunov exponent. First, let's imagine we start the dynamics at some point $x_0$. Then, imagine we take another nearby point, very close, $y_0=x_0+\\eta$, where $\\eta$ is very small. We are interested on the difference between paths, $\\delta t=y_t−x_t$. If the separation goes as $|\\delta_n|\\approx|\\delta_0|e^{nλ}$, then $\\lambda$ is called a Lyapunov exponent. To compute a it, take the logarithm of the previous definition and remember that $\\delta_n=y_n−x_n=f_n(x_0+\\delta_0)−f_n(x_0)$, therefore\n",
    "\n",
    "$$\n",
    "\\begin{aligned} \\lambda &=\\frac{1}{n} \\ln \\left|\\frac{\\delta_{n}}{\\delta_{0}}\\right| \\\\ &=\\frac{1}{n} \\ln \\left|\\frac{f^{n}\\left(x_{0}+\\delta_{0}\\right)-f^{n}\\left(x_{0}\\right)}{\\delta_{0}}\\right| \\\\ &=\\frac{1}{n} \\ln \\left|\\left(f^{n}\\right)^{\\prime}\\left(x_{0}\\right)\\right| \\end{aligned}\n",
    "$$"
   ]
  },
  {
   "cell_type": "markdown",
   "metadata": {
    "slideshow": {
     "slide_type": "slide"
    }
   },
   "source": [
    "By using the chain rule,\n",
    "\n",
    "$$\\left(f^{n}\\right)^{\\prime}\\left(x_{0}\\right)=\\prod_{i=0}^{n-1} f^{\\prime}\\left(x_{i}\\right)$$\n",
    "Hence\n",
    "$$\n",
    "\\begin{aligned} \\lambda &=\\frac{1}{n} \\ln \\left|\\prod_{i=0}^{n-1} f^{\\prime}\\left(x_{i}\\right)\\right| \\\\ &=\\frac{1}{n} \\sum_{i=0}^{n-1} \\ln \\left|f^{\\prime}\\left(x_{i}\\right)\\right| \\end{aligned}\n",
    "$$\n",
    "If $n\\to \\infty$, this is defined as the Lyapunov Exponent\n",
    "$$\n",
    "\\lambda=\\lim _{n \\rightarrow \\infty}\\left\\{\\frac{1}{n} \\sum_{i=0}^{n-1} \\ln \\left|f^{\\prime}\\left(x_{i}\\right)\\right|\\right\\}\n",
    "$$\n",
    "therefore if $\\lambda>0$, the systems is chaotic, because is very sensitive to initial conditions."
   ]
  },
  {
   "cell_type": "markdown",
   "metadata": {
    "slideshow": {
     "slide_type": "slide"
    }
   },
   "source": [
    "# Exercise (optional)\n",
    "Compute the Lyapunov exponent of:\n",
    "* Tent map, Logistic map and sine map."
   ]
  },
  {
   "cell_type": "markdown",
   "metadata": {
    "slideshow": {
     "slide_type": "slide"
    }
   },
   "source": [
    "Going back to our main problem we can compute the Lyapunov exponent of our system (Harmonic oscillator).\n",
    "To do this we evaluate two different conditions (close between each other), and evaluate the difference of the angle as a function of time.\n",
    "If we are out of the chaos region the plot of $\\log(\\Delta\\theta(t)),$  vs time looks like\n",
    "![no chaos](https://raw.githubusercontent.com/JoseMontanaC/Laboratorio-Metodos-Computacionales/master/Chaos/Pendulum/No_chaos.PNG)"
   ]
  },
  {
   "cell_type": "markdown",
   "metadata": {
    "slideshow": {
     "slide_type": "slide"
    }
   },
   "source": [
    "and the one that is chaotic looks like\n",
    "![Chaotic](https://raw.githubusercontent.com/JoseMontanaC/Laboratorio-Metodos-Computacionales/master/Chaos/Pendulum/Chaos.PNG)"
   ]
  },
  {
   "cell_type": "markdown",
   "metadata": {
    "slideshow": {
     "slide_type": "slide"
    }
   },
   "source": [
    "we can also see the behaviour of the position as a function of time\n",
    "![time](https://raw.githubusercontent.com/JoseMontanaC/Laboratorio-Metodos-Computacionales/master/Chaos/Pendulum/Time.gif)"
   ]
  },
  {
   "cell_type": "markdown",
   "metadata": {
    "slideshow": {
     "slide_type": "slide"
    }
   },
   "source": [
    "But as mentioned before, this does not gives us enough information, so it is always better to study the phase space\n",
    "![phase space](https://raw.githubusercontent.com/JoseMontanaC/Laboratorio-Metodos-Computacionales/master/Chaos/Pendulum/chaos.gif)"
   ]
  }
 ],
 "metadata": {
  "celltoolbar": "Slideshow",
  "kernelspec": {
   "display_name": "Python 3",
   "language": "python",
   "name": "python3"
  },
  "language_info": {
   "codemirror_mode": {
    "name": "ipython",
    "version": 3
   },
   "file_extension": ".py",
   "mimetype": "text/x-python",
   "name": "python",
   "nbconvert_exporter": "python",
   "pygments_lexer": "ipython3",
   "version": "3.7.1"
  },
  "nbTranslate": {
   "displayLangs": [
    "*"
   ],
   "hotkey": "alt-t",
   "langInMainMenu": true,
   "sourceLang": "en",
   "targetLang": "fr",
   "useGoogleTranslate": true
  },
  "toc": {
   "base_numbering": 1,
   "nav_menu": {},
   "number_sections": true,
   "sideBar": true,
   "skip_h1_title": false,
   "title_cell": "Table of Contents",
   "title_sidebar": "Contents",
   "toc_cell": false,
   "toc_position": {},
   "toc_section_display": true,
   "toc_window_display": false
  },
  "varInspector": {
   "cols": {
    "lenName": 16,
    "lenType": 16,
    "lenVar": 40
   },
   "kernels_config": {
    "python": {
     "delete_cmd_postfix": "",
     "delete_cmd_prefix": "del ",
     "library": "var_list.py",
     "varRefreshCmd": "print(var_dic_list())"
    },
    "r": {
     "delete_cmd_postfix": ") ",
     "delete_cmd_prefix": "rm(",
     "library": "var_list.r",
     "varRefreshCmd": "cat(var_dic_list()) "
    }
   },
   "types_to_exclude": [
    "module",
    "function",
    "builtin_function_or_method",
    "instance",
    "_Feature"
   ],
   "window_display": false
  }
 },
 "nbformat": 4,
 "nbformat_minor": 2
}
