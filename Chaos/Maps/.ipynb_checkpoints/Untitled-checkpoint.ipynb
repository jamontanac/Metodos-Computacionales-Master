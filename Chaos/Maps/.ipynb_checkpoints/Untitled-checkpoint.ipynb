{
 "cells": [
  {
   "cell_type": "markdown",
   "metadata": {
    "slideshow": {
     "slide_type": "slide"
    }
   },
   "source": [
    "# Discrete  dynamics, maps \n",
    "# and symplectic integrators (Why to use them)\n",
    "\n",
    "\n",
    "### (Based on Understanding Non-linear Dynamics, Kaplan; and Nonlinear Dynamics and Chaos, Strogatz)"
   ]
  },
  {
   "cell_type": "markdown",
   "metadata": {
    "slideshow": {
     "slide_type": "slide"
    }
   },
   "source": [
    "\n",
    "\n",
    "A finite difference equations allows to obtain the new value for a given variable, from the current value, as a function of discrete time steps. This functional relationship can be written as\n",
    "$$\n",
    "x_{t+1}=f(x_t)\n",
    "$$\n",
    "where the function $f$ characterizes the mapping. sometimes, $x_{t+1}$ is denoted as $x'$.\n",
    "\n",
    "For example, let's assume a linear equation, $x_{t+1}=Rx_{t}$, where $R$ is a constant. What is the solution of this equation?"
   ]
  },
  {
   "cell_type": "markdown",
   "metadata": {
    "slideshow": {
     "slide_type": "slide"
    }
   },
   "source": [
    "In this case the solution is easily obtained, and for a given initial condition $x_0$, you have\n",
    "$$x_1=Rx_0,$$\n",
    "$$x_2=Rx_1=R^2 x_0,$$\n",
    "$$x_{t}=Rx_{t-1}=R^2 x_{t-2} = \\ldots =R^t x_0$$.\n",
    "therefore, the solutions behaviour is completely encoded in the parameter $R$. You will see that a very rich dynamics can be spanned by the given parameters. You have the following possible solutions, as function of time:"
   ]
  },
  {
   "cell_type": "markdown",
   "metadata": {
    "ExecuteTime": {
     "end_time": "2019-11-19T14:40:00.912784Z",
     "start_time": "2019-11-19T14:40:00.385193Z"
    },
    "slideshow": {
     "slide_type": "slide"
    }
   },
   "source": [
    "```python\n",
    "import matplotlib.pyplot as plt\n",
    "import numpy as np\n",
    "N = 40\n",
    "def iterate(data, R):\n",
    "    for i in range(1, N):\n",
    "        data[i] = R*data[i-1]\n",
    "# Iteration settings\n",
    "t = np.arange(0, N)\n",
    "xdata = np.zeros(N)\n",
    "xdata[0] = 0.5\n",
    "# plot settings \n",
    "fig, ax = plt.subplots(figsize=(8,6))\n",
    "# Maps for several values of R\n",
    "R = -1.01\n",
    "iterate(xdata, R)\n",
    "plt.plot(t, xdata, label=r'$R < -1$')\n",
    "R = -0.8\n",
    "iterate(xdata, R)\n",
    "```"
   ]
  },
  {
   "cell_type": "markdown",
   "metadata": {
    "ExecuteTime": {
     "end_time": "2019-11-19T14:40:00.912784Z",
     "start_time": "2019-11-19T14:40:00.385193Z"
    },
    "slideshow": {
     "slide_type": "slide"
    }
   },
   "source": [
    "```python\n",
    "plt.plot(t, xdata, label=r'$-1 < R < 0$')\n",
    "R = +0.8\n",
    "iterate(xdata, R)\n",
    "plt.plot(t, xdata, label=r'$0 < R < 1$')\n",
    "R = +1.0\n",
    "iterate(xdata, R)\n",
    "plt.plot(t, xdata, label=r'$1 = R $')\n",
    "R = +1.01\n",
    "iterate(xdata, R)\n",
    "plt.plot(t, xdata, label=r'$1 < R $')\n",
    "plt.legend()\n",
    "plt.show()\n",
    "```"
   ]
  },
  {
   "cell_type": "markdown",
   "metadata": {
    "slideshow": {
     "slide_type": "slide"
    }
   },
   "source": [
    "![linear](https://raw.githubusercontent.com/JoseMontanaC/Laboratorio-Metodos-Computacionales/master/Chaos/Maps/linear_map.png)"
   ]
  },
  {
   "cell_type": "markdown",
   "metadata": {
    "slideshow": {
     "slide_type": "slide"
    }
   },
   "source": [
    "After checking the solution and looking at this behaviour, you can easily conclude that:\n",
    "\n",
    "* For $|R|>1$, the state variable grows in time, unbounded. For negative values, you also have oscillations (of increasing amplitude). this is valid for any initial condition $x_0\\neq 0$."
   ]
  },
  {
   "cell_type": "markdown",
   "metadata": {
    "slideshow": {
     "slide_type": "fragment"
    }
   },
   "source": [
    "* For $|R|<1$ the system decays to zero in spite of the initial condition. Therefore, the point $x=0$ is a limit point and stable, for this values of $R$. Any initial condition will end at that point, after enough iterations."
   ]
  },
  {
   "cell_type": "markdown",
   "metadata": {
    "slideshow": {
     "slide_type": "fragment"
    }
   },
   "source": [
    "* Remaining cases are, for example, steady when $R=1$. In this case any point is a fixed point, since $x_{t+1}=x_t$ for all iterations."
   ]
  },
  {
   "cell_type": "markdown",
   "metadata": {
    "slideshow": {
     "slide_type": "slide"
    }
   },
   "source": [
    "The stability (sensitivity to small perturbations) of points can be explored analytically by the behaviour of the first order derivatives (linearization). Furthermore, what will be important is the stability of the fixed points, that is , the points which fulfill xt+1=xt (which is the same as dx/dt=0 for a continous map), something which can be obtained after a few or after many iterations."
   ]
  },
  {
   "cell_type": "markdown",
   "metadata": {
    "slideshow": {
     "slide_type": "slide"
    }
   },
   "source": [
    "# the Logistic map\n",
    "The logistic map has been used to model several kind of systems and its origins are related to the study of the population dynamics. Imagine that $x_t$ denotes the population of certain system at time $t$. One expects that if the population is small, then it will grows proportionally to the current population, $x_{t+1}\\propto x_t$. But, if the population is too large, then competition for resources will decrease the population, $x_{t+1}\\propto 1−x_t$. Therefore, one can model the population as\n",
    "\n",
    "$$ x_{t+1} = Rx_t (1-x_t)$$\n",
    "This is the logistic maps, and its simplicity hides a very rich behaviour. A typical figure (for a normalized) is as follows"
   ]
  },
  {
   "cell_type": "markdown",
   "metadata": {
    "ExecuteTime": {
     "end_time": "2019-11-19T14:25:42.052610Z",
     "start_time": "2019-11-19T14:25:41.746131Z"
    },
    "slideshow": {
     "slide_type": "slide"
    }
   },
   "source": [
    "```c++\n",
    "#include <iostream>\n",
    "#include <vector>\n",
    "#include <cstdlib>\n",
    "\n",
    "// call: ./a.out NITER R\n",
    "int main(int argc, char **argv)\n",
    "{\n",
    "  const int NITER = std::atoi(argv[1]);\n",
    "  const double R = std::atof(argv[2]);\n",
    "  std::vector<double> x(NITER);\n",
    "\n",
    "  x[0] = 0.12;\n",
    "  for (int ii = 1; ii < NITER; ++ii) {\n",
    "    x[ii] = R*x[ii-1]*(1-x[ii-1]);\n",
    "  }\n",
    "\n",
    "  for (int ii = NITER/2; ii < NITER; ++ii) {\n",
    "    std::cout << ii << \"  \" << x[ii] << \"\\n\";\n",
    "  }\n",
    "  \n",
    "  return 0;\n",
    "}\n",
    "```"
   ]
  },
  {
   "cell_type": "markdown",
   "metadata": {
    "slideshow": {
     "slide_type": "slide"
    }
   },
   "source": [
    "To run the cpp code for several values of R, you use a bash loop,\n",
    "```bash\n",
    "   for R in 0.5 1.1 2.1 3.1 3.5 3.8; do echo \"R = $R\";  ./a.out 100 $R > datos-$R.txt ; done\n",
    "```\n",
    "Then we plot with python\n",
    "![a](https://raw.githubusercontent.com/JoseMontanaC/Laboratorio-Metodos-Computacionales/master/Chaos/Maps/Logistic.png)"
   ]
  },
  {
   "cell_type": "markdown",
   "metadata": {
    "slideshow": {
     "slide_type": "slide"
    }
   },
   "source": [
    "As you can see, the actual behaviour of the solutions is very different from the linear map, and there are some ranges for R where the solutions is steady, decaying, periodic, and non-periodic."
   ]
  },
  {
   "cell_type": "markdown",
   "metadata": {
    "ExecuteTime": {
     "end_time": "2019-11-19T14:29:14.143638Z",
     "start_time": "2019-11-19T14:29:13.977530Z"
    },
    "slideshow": {
     "slide_type": "slide"
    }
   },
   "source": [
    "As you can see, the actual behaviour of the solutions is very different from the linear map, and there are some ranges for R where the solutions is steady, decaying, periodic, and non-periodic."
   ]
  },
  {
   "cell_type": "markdown",
   "metadata": {
    "slideshow": {
     "slide_type": "slide"
    }
   },
   "source": [
    "Actually, it is uncommon to focus on the $x_t$ vs. $t$ plot, since it can hide a lot of information. For example, how can you now that actually you are looking at some steady state? or you need to perform more iterations? In these cases is customary to rely on return maps or phase portraits, that is, plots of $x_{t+1}$ vs. $x_t$. In this case is easy to check if the system is reaching a single point, like $x=0$, or a periodic orbit, or something much strange (like a fractal). Let's plot the return map for the previous values of $R$."
   ]
  },
  {
   "cell_type": "markdown",
   "metadata": {
    "slideshow": {
     "slide_type": "slide"
    }
   },
   "source": [
    "![b](https://raw.githubusercontent.com/JoseMontanaC/Laboratorio-Metodos-Computacionales/master/Chaos/Maps/Logistic_map.png)"
   ]
  },
  {
   "cell_type": "markdown",
   "metadata": {
    "ExecuteTime": {
     "end_time": "2019-11-19T14:48:17.691343Z",
     "start_time": "2019-11-19T14:48:17.290414Z"
    },
    "slideshow": {
     "slide_type": "slide"
    }
   },
   "source": [
    "But we could see the behaviour of this at every step, we could see that for some values of $R$ we have \"sinks\", for example let's run in python our own program for value of $R=2$"
   ]
  },
  {
   "cell_type": "markdown",
   "metadata": {
    "ExecuteTime": {
     "end_time": "2019-11-19T15:08:13.615663Z",
     "start_time": "2019-11-19T15:07:54.559754Z"
    },
    "slideshow": {
     "slide_type": "fragment"
    }
   },
   "source": [
    "```python\n",
    "def Logistic_map(x,L):\n",
    "    return L*x*(1-x)\n",
    "x=[0.001]\n",
    "R=2\n",
    "for i in range(100):\n",
    "    x.append(Logistic_map(x[-1],R))\n",
    "    plt.step(x,x,alpha=1,color=\"rebeccapurple\",linewidth=0.8)\n",
    "    plt.title(r\"$\\lambda=${}, iteration number = {}\".format(round(R,3),i+1)))\n",
    "    plt.plot(x_total,Logistic_map(x_total,R),color=\"navy\")\n",
    "    plt.plot(x_total,x_total,color=\"orange\")\n",
    "    plt.xlim(0,0.6)\n",
    "    plt.ylim(0,0.6)\n",
    "    plt.show()\n",
    "```\n"
   ]
  },
  {
   "cell_type": "markdown",
   "metadata": {
    "slideshow": {
     "slide_type": "slide"
    }
   },
   "source": [
    "![c](https://raw.githubusercontent.com/JoseMontanaC/Laboratorio-Metodos-Computacionales/master/Chaos/Maps/a.gif)"
   ]
  },
  {
   "cell_type": "markdown",
   "metadata": {
    "slideshow": {
     "slide_type": "slide"
    }
   },
   "source": [
    "![mauro](https://raw.githubusercontent.com/jmsevillam/Dynamical_Systems/master/Logistic%20Map/Logistic_arrows.gif)"
   ]
  },
  {
   "cell_type": "markdown",
   "metadata": {
    "ExecuteTime": {
     "end_time": "2019-11-19T15:19:54.862653Z",
     "start_time": "2019-11-19T15:19:18.310079Z"
    },
    "slideshow": {
     "slide_type": "slide"
    }
   },
   "source": [
    "Or for different values of $R$ we have\n",
    "![b](https://raw.githubusercontent.com/JoseMontanaC/Laboratorio-Metodos-Computacionales/master/Chaos/Maps/b.gif)"
   ]
  },
  {
   "cell_type": "markdown",
   "metadata": {
    "ExecuteTime": {
     "end_time": "2019-11-19T15:21:45.631403Z",
     "start_time": "2019-11-19T15:21:44.240953Z"
    },
    "slideshow": {
     "slide_type": "slide"
    }
   },
   "source": [
    "# 17.3 Local stability and fixed points\n",
    "A fixed point is a point where $x_{t+1}=f(x_t)=x_t$ (or, for continuous equations, $0=dx/dt$). The behavior of small perturbations around this points are related to the stability of the fixed point. If the small perturbations separates from the point, the point is said to unstable. Otherwise it is stable.\n",
    "\n",
    "Let's assume the existence of a fixed point, $x_p$. A small perturbation around it can be written as $\\eta=x_t−x_p$, therefore, $\\eta_{t+1}=x_t+1−x_p=f(x_t)−x_p=f(\\eta+x_p)−x_p=f(x_p)+f′(x_p)\\eta_t−x_p=f′(x_p)\\eta_t$. In other words, $\\eta_{t+1}/\\eta_t=f′(x_p)$. Therefore, if $|f′(x_p)|>1$, the point is unstable; else, if $|f′(x_p)|<1$, the point is stable (The equivalent for continuous functions is with $f′(x_p)>0$ etc).\n",
    "\n",
    "## Exercise\n",
    "Compute the fixed points and the stability for Logistic map"
   ]
  },
  {
   "cell_type": "markdown",
   "metadata": {
    "ExecuteTime": {
     "end_time": "2019-11-19T15:21:45.631403Z",
     "start_time": "2019-11-19T15:21:44.240953Z"
    },
    "slideshow": {
     "slide_type": "slide"
    }
   },
   "source": [
    "If a point is locally stable, then some iterations would be needed to reach it. Those iterations are called the transient.\n",
    "\n",
    "The set of local initial conditions which reach the same limit fixed point is called the basin of attraction of the fixed point. They can have a very complicated geometry."
   ]
  },
  {
   "cell_type": "markdown",
   "metadata": {
    "slideshow": {
     "slide_type": "slide"
    }
   },
   "source": [
    "# Cycles\n",
    "A cycle or $n$ -order is a trajectory which repeats itself, defined as\n",
    "\n",
    "$$x_{t+n}=x_t$$\n",
    "but $x_{t+j}\\neq x_t$, for $j=1,2,3,…,n−1.$\n",
    "\n",
    "A fixed point is a cycle of period 1. A cycle of period 2 is defined as $x_{t+2}=f(x_t)=f(f(x_t))$. If the function $x_{t+1}=f(x_t)$ has a period-2 cycle, then the function $f(f(x_t))$ has, at least, two fixed points. Longer cycles can be found similarly: \"just\" solve the equation\n",
    "\n",
    "$$x_t=\\underbrace{f(f(\\cdots f(x_t)\\cdots))}_{\\text{n times}}$$"
   ]
  },
  {
   "cell_type": "markdown",
   "metadata": {
    "slideshow": {
     "slide_type": "slide"
    }
   },
   "source": [
    "# Introduction to chaos\n",
    "A deterministic system can present chaotic behaviour, showing the following characteristics:\n",
    "\n",
    "* Aperiodicity.\n",
    "* Bounded solutions.\n",
    "* Deterministic.\n",
    "* Sensitive dependence on initial conditions.\n",
    "\n",
    "An example of this can be found using two different initial conditions and a $R=4$"
   ]
  },
  {
   "cell_type": "markdown",
   "metadata": {
    "slideshow": {
     "slide_type": "slide"
    }
   },
   "source": [
    "In order to determine when the system becomes chaotic we can do something called a bifurcation diagram. To do this we are based in the fact of existence of fixed points, meaning that if we reach the transient limit for many conditions we should have that the result have to end up in a fixed point.\n",
    "\n",
    "* We use many initial conditions from 0 to 1 (Why?)\n",
    "* Let evolve all those conditions enough to reach its transient value.\n",
    "* Plot the final value after applying the map several times.\n",
    "\n",
    "this can be easily done in python using the following code:\n",
    "\n",
    "```python\n",
    "plt.figure(figsize=(20,20))\n",
    "for L in np.linspace(1,4,1000):\n",
    "    x=np.linspace(0.0001,1,10000)\n",
    "    for i in range(1000):\n",
    "        x=Logistic_map(x,L)\n",
    "    plt.plot([L]*len(x),x,\".\",markersize=0.01,color=\"k\")\n",
    "    plt.ylim(0,1)\n",
    "    plt.xlim(1.5,4)\n",
    "plt.show()\n",
    "```\n",
    "for more resolution check [this link](http://rocs.hu-berlin.de/D3/logistic/)"
   ]
  },
  {
   "cell_type": "markdown",
   "metadata": {
    "slideshow": {
     "slide_type": "slide"
    }
   },
   "source": [
    "![bifurcation](https://raw.githubusercontent.com/JoseMontanaC/Laboratorio-Metodos-Computacionales/master/Chaos/Maps/Bifurcation.png)"
   ]
  },
  {
   "cell_type": "markdown",
   "metadata": {
    "ExecuteTime": {
     "end_time": "2019-11-19T15:50:34.783786Z",
     "start_time": "2019-11-19T15:48:22.054315Z"
    },
    "slideshow": {
     "slide_type": "slide"
    }
   },
   "source": [
    "There are several observations we can extract from this examples:\n",
    "\n",
    "* The system is chaotic only for some values of the parameter R (which ones?).\n",
    "* You can see (R=3.0) the existence of some transient time before the system settles to a periodic behaviour.\n",
    "* There are some period doubling results when changing the parameter R (check R=3.0 and R=3.5).\n",
    "* Close values of R do not necessarily produce the same behaviour (check R=3.800 and R=3.801).\n",
    "\n",
    "\n",
    "Regarding the period doubling, it has actually been found that the logistic map shows what is called a period-doubling route to chaos. Actually, there are successive period-doublings as $R$ changes, with values $2$, $4$, $8$, $16$, $32$, and so on. If $R_n$ denotes the value at which a $2n$ -cycle appears, the numerics reveals that (see Strogatz et. al.) $R_1=3$ generates a period 2-cycle, $R_2=3.449…$ a 4-cycle, $R_3=3.54409…$ a period-8, $R_4=3.5544…$ a period-16, $R_5=3.568759…$ a period-32, …, and $R_{\\infty}=3.569946…$ a period-$\\infty$ cycle."
   ]
  },
  {
   "cell_type": "markdown",
   "metadata": {
    "slideshow": {
     "slide_type": "slide"
    }
   },
   "source": [
    "Successive period-doublings come faster, and it can be shown that the convergence is geometric, and the convergence rate can be characterized by a single constant,\n",
    "\n",
    "$$\n",
    "\\delta =\\lim_{n\\to\\infty}\\frac{R_{n}-R_{n-1}}{R_{n+1}-R_{n}} = 4.669\\ldots\n",
    "$$\n",
    "\n",
    "This is called the Feingenbaum constant, and seems to be a universal constant which characterizes the route to chaos in many systems.\n"
   ]
  },
  {
   "cell_type": "markdown",
   "metadata": {
    "slideshow": {
     "slide_type": "skip"
    }
   },
   "source": [
    "# Exercise (Optional)\n",
    "Do all we have done until now for the next two maps (Everything in c++ and use python only to plot):\n",
    "* Tent map\n",
    "$$x_{t+1}=R \\min\\left( x_{t},1-x_{t}\\right)$$\n",
    "\n",
    "* Sine map \n",
    "$$ x_{n+1} = R \\sin(\\pi x), \\quad x\\in [0,1], \\mu >0.$$"
   ]
  }
 ],
 "metadata": {
  "celltoolbar": "Slideshow",
  "kernelspec": {
   "display_name": "Python 3",
   "language": "python",
   "name": "python3"
  },
  "language_info": {
   "codemirror_mode": {
    "name": "ipython",
    "version": 3
   },
   "file_extension": ".py",
   "mimetype": "text/x-python",
   "name": "python",
   "nbconvert_exporter": "python",
   "pygments_lexer": "ipython3",
   "version": "3.7.1"
  },
  "nbTranslate": {
   "displayLangs": [
    "*"
   ],
   "hotkey": "alt-t",
   "langInMainMenu": true,
   "sourceLang": "en",
   "targetLang": "fr",
   "useGoogleTranslate": true
  },
  "toc": {
   "base_numbering": 1,
   "nav_menu": {},
   "number_sections": true,
   "sideBar": true,
   "skip_h1_title": false,
   "title_cell": "Table of Contents",
   "title_sidebar": "Contents",
   "toc_cell": false,
   "toc_position": {},
   "toc_section_display": true,
   "toc_window_display": false
  },
  "varInspector": {
   "cols": {
    "lenName": 16,
    "lenType": 16,
    "lenVar": 40
   },
   "kernels_config": {
    "python": {
     "delete_cmd_postfix": "",
     "delete_cmd_prefix": "del ",
     "library": "var_list.py",
     "varRefreshCmd": "print(var_dic_list())"
    },
    "r": {
     "delete_cmd_postfix": ") ",
     "delete_cmd_prefix": "rm(",
     "library": "var_list.r",
     "varRefreshCmd": "cat(var_dic_list()) "
    }
   },
   "types_to_exclude": [
    "module",
    "function",
    "builtin_function_or_method",
    "instance",
    "_Feature"
   ],
   "window_display": false
  }
 },
 "nbformat": 4,
 "nbformat_minor": 2
}
