{
 "cells": [
  {
   "cell_type": "code",
   "execution_count": 1,
   "metadata": {
    "ExecuteTime": {
     "end_time": "2019-08-21T21:17:24.133000Z",
     "start_time": "2019-08-21T21:17:22.607078Z"
    }
   },
   "outputs": [],
   "source": [
    "import pandas as pd"
   ]
  },
  {
   "cell_type": "code",
   "execution_count": 2,
   "metadata": {
    "ExecuteTime": {
     "end_time": "2019-08-21T21:17:24.196815Z",
     "start_time": "2019-08-21T21:17:24.147917Z"
    }
   },
   "outputs": [],
   "source": [
    "lista_1=pd.read_csv(\"Grupo 1.csv\")"
   ]
  },
  {
   "cell_type": "code",
   "execution_count": 3,
   "metadata": {
    "ExecuteTime": {
     "end_time": "2019-08-21T21:17:24.225713Z",
     "start_time": "2019-08-21T21:17:24.219728Z"
    }
   },
   "outputs": [],
   "source": [
    "lista_2=pd.read_csv(\"Grupo 2.csv\")"
   ]
  },
  {
   "cell_type": "code",
   "execution_count": 4,
   "metadata": {
    "ExecuteTime": {
     "end_time": "2019-08-21T21:17:24.263643Z",
     "start_time": "2019-08-21T21:17:24.257632Z"
    }
   },
   "outputs": [],
   "source": [
    "lista_2=lista_2[[\"Nombre de usuario\",\"ID de alumno\"]]"
   ]
  },
  {
   "cell_type": "code",
   "execution_count": 5,
   "metadata": {
    "ExecuteTime": {
     "end_time": "2019-08-21T21:17:24.296559Z",
     "start_time": "2019-08-21T21:17:24.291573Z"
    }
   },
   "outputs": [],
   "source": [
    "lista_1=lista_1[[\"Nombre de usuario\",\"ID de alumno\"]]"
   ]
  },
  {
   "cell_type": "code",
   "execution_count": 6,
   "metadata": {
    "ExecuteTime": {
     "end_time": "2019-08-21T21:17:24.353387Z",
     "start_time": "2019-08-21T21:17:24.316508Z"
    }
   },
   "outputs": [],
   "source": [
    "lista_1[\"Llave generada\"]=np.random.randint(5000,10000,len(lista_1))\n",
    "lista_1[\"Mensaje\"]=np.random.randint(5000,10000,len(lista_1))\n",
    "lista_2[\"Llave generada\"]=np.random.randint(5000,10000,len(lista_2))\n",
    "lista_2[\"Mensaje\"]=np.random.randint(5000,10000,len(lista_2))"
   ]
  },
  {
   "cell_type": "code",
   "execution_count": 9,
   "metadata": {
    "ExecuteTime": {
     "end_time": "2019-08-21T21:18:16.171948Z",
     "start_time": "2019-08-21T21:18:16.139668Z"
    }
   },
   "outputs": [],
   "source": [
    "lista_1.to_csv(\"Lista_Grupo_1.csv\",index=False)\n",
    "lista_2.to_csv(\"Lista_Grupo_2.csv\",index=False)"
   ]
  },
  {
   "cell_type": "code",
   "execution_count": null,
   "metadata": {},
   "outputs": [],
   "source": []
  }
 ],
 "metadata": {
  "kernelspec": {
   "display_name": "Python 3",
   "language": "python",
   "name": "python3"
  },
  "language_info": {
   "codemirror_mode": {
    "name": "ipython",
    "version": 3
   },
   "file_extension": ".py",
   "mimetype": "text/x-python",
   "name": "python",
   "nbconvert_exporter": "python",
   "pygments_lexer": "ipython3",
   "version": "3.7.1"
  },
  "nbTranslate": {
   "displayLangs": [
    "*"
   ],
   "hotkey": "alt-t",
   "langInMainMenu": true,
   "sourceLang": "en",
   "targetLang": "fr",
   "useGoogleTranslate": true
  },
  "toc": {
   "base_numbering": 1,
   "nav_menu": {},
   "number_sections": true,
   "sideBar": true,
   "skip_h1_title": false,
   "title_cell": "Table of Contents",
   "title_sidebar": "Contents",
   "toc_cell": false,
   "toc_position": {},
   "toc_section_display": true,
   "toc_window_display": false
  },
  "varInspector": {
   "cols": {
    "lenName": 16,
    "lenType": 16,
    "lenVar": 40
   },
   "kernels_config": {
    "python": {
     "delete_cmd_postfix": "",
     "delete_cmd_prefix": "del ",
     "library": "var_list.py",
     "varRefreshCmd": "print(var_dic_list())"
    },
    "r": {
     "delete_cmd_postfix": ") ",
     "delete_cmd_prefix": "rm(",
     "library": "var_list.r",
     "varRefreshCmd": "cat(var_dic_list()) "
    }
   },
   "types_to_exclude": [
    "module",
    "function",
    "builtin_function_or_method",
    "instance",
    "_Feature"
   ],
   "window_display": false
  }
 },
 "nbformat": 4,
 "nbformat_minor": 2
}
