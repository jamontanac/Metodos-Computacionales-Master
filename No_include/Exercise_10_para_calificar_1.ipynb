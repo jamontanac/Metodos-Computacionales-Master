{
 "cells": [
  {
   "cell_type": "markdown",
   "metadata": {
    "lang": "en"
   },
   "source": [
    "# Ejercicio (Para calificar)\n",
    "Efectue el mismo procédimiento que en la clase pero esta vez para el data set que se encuentra [acá](https://archive.ics.uci.edu/ml/datasets/Iris/).\n",
    "* Calcule la matriz de covarianza (sin usar Numpy).\n",
    "* Calcule los vectores y valores propios de la matriz de covarianzas.\n",
    "* Haga una grafica de la varianza explicada por cada componente principal.\n",
    "* Indique la cantidad de componentes principales tales que se captura el 90% de la varianza.\n",
    "* Efectue una grafica ilustrando estas componentes principales (¿ Qué puede inferir de los datos en estas componentes principales?)\n",
    "\n",
    "\n",
    "__Pista__: Para hacer todo el procedimeinto considere el dataset tal que excluye la clase (Iris Setosa, Iris Versicolour, Iris Virginica), convierta la clase en un atributo numerico (ex: 0,1,2). El PCA siempre se efectua sobre las variables que no son de tipo categoricas."
   ]
  }
 ],
 "metadata": {
  "kernelspec": {
   "display_name": "Python 3",
   "language": "python",
   "name": "python3"
  },
  "language_info": {
   "codemirror_mode": {
    "name": "ipython",
    "version": 3
   },
   "file_extension": ".py",
   "mimetype": "text/x-python",
   "name": "python",
   "nbconvert_exporter": "python",
   "pygments_lexer": "ipython3",
   "version": "3.7.1"
  },
  "nbTranslate": {
   "displayLangs": [
    "*"
   ],
   "hotkey": "alt-t",
   "langInMainMenu": true,
   "sourceLang": "en",
   "targetLang": "fr",
   "useGoogleTranslate": true
  },
  "toc": {
   "base_numbering": 1,
   "nav_menu": {},
   "number_sections": true,
   "sideBar": true,
   "skip_h1_title": false,
   "title_cell": "Table of Contents",
   "title_sidebar": "Contents",
   "toc_cell": false,
   "toc_position": {},
   "toc_section_display": true,
   "toc_window_display": false
  },
  "varInspector": {
   "cols": {
    "lenName": 16,
    "lenType": 16,
    "lenVar": 40
   },
   "kernels_config": {
    "python": {
     "delete_cmd_postfix": "",
     "delete_cmd_prefix": "del ",
     "library": "var_list.py",
     "varRefreshCmd": "print(var_dic_list())"
    },
    "r": {
     "delete_cmd_postfix": ") ",
     "delete_cmd_prefix": "rm(",
     "library": "var_list.r",
     "varRefreshCmd": "cat(var_dic_list()) "
    }
   },
   "types_to_exclude": [
    "module",
    "function",
    "builtin_function_or_method",
    "instance",
    "_Feature"
   ],
   "window_display": false
  }
 },
 "nbformat": 4,
 "nbformat_minor": 2
}
