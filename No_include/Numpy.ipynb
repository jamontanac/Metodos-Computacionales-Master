{
 "cells": [
  {
   "cell_type": "markdown",
   "metadata": {
    "slideshow": {
     "slide_type": "slide"
    }
   },
   "source": [
    "<p style=\"font-family: Arial; font-size:3.4em;color:purple; font-style:bold\"><br>\n",
    "NumPy visualization and data representantion</p><br>\n",
    "\n",
    "![image](./numpy/numpy-array.png)\n",
    "\n",
    "NumPy package is the workhorse of data analysis, machine learning, and scientific computing in the python ecosystem. It is so due to the fact that it vastly simplifies manipulating and crunching vectors and matrices.\n",
    "Some of python’s leading package rely on NumPy as a fundamental piece of their infrastructure"
   ]
  },
  {
   "cell_type": "markdown",
   "metadata": {
    "slideshow": {
     "slide_type": "slide"
    }
   },
   "source": [
    "<p style=\"list-style-type:disc;font-size:1.9em;color: black;font-style:bold \">Examples:</p>\n",
    "<ul style=\"list-style-type:disc;font-size:1.5em;color: #000080;font-style:bold \">\n",
    "  <li>Scikit-learn</li>\n",
    "  <li>Scipy</li>\n",
    "  <li>Pandas</li>\n",
    "  <li>TensorFlow</li>\n",
    "</ul>"
   ]
  },
  {
   "cell_type": "markdown",
   "metadata": {
    "slideshow": {
     "slide_type": "slide"
    }
   },
   "source": [
    "Beyond the ability to slice and dice numeric data, mastering numpy will give you an edge when dealing and debugging with advanced usecases in these libraries."
   ]
  },
  {
   "cell_type": "markdown",
   "metadata": {
    "slideshow": {
     "slide_type": "slide"
    }
   },
   "source": [
    "Here we are going to look at some of the main ways to use NumPy and how it can represent different types of data (tables, images, text…etc) before we use it to more complex things such as machine learning models.\n",
    "```python\n",
    "import numpy as np\n",
    "```"
   ]
  },
  {
   "cell_type": "markdown",
   "metadata": {
    "slideshow": {
     "slide_type": "slide"
    }
   },
   "source": [
    "# Creating Arrays\n",
    "We can create a NumPy array by passing a python list to it and using ` np.array()`. In this case, python creates the array we can see on the right here:\n",
    "![imagen](./numpy/create-numpy-array-1.png)"
   ]
  },
  {
   "cell_type": "markdown",
   "metadata": {
    "slideshow": {
     "slide_type": "slide"
    }
   },
   "source": [
    "There are often cases when we want NumPy to initialize the values of the array for us. NumPy provides methods like ``ones()``, ``zeros()``, and ``random.random()`` for these cases. We just pass them the number of elements we want it to generate:\n",
    "![imagen](./numpy/create-numpy-array-ones-zeros-random.png)"
   ]
  },
  {
   "cell_type": "markdown",
   "metadata": {
    "slideshow": {
     "slide_type": "slide"
    }
   },
   "source": [
    "Once we’ve created our arrays, we can start to manipulate them in interesting ways.\n",
    "\n",
    "# Array Arithmetic\n",
    "Let’s create two NumPy arrays to showcase their usefulness. We’ll call them ``data`` and ``ones``:\n",
    "![imagen](./numpy/numpy-arrays-example-1.png)\n",
    "Adding them up position-wise (i.e. adding the values of each row) is as simple as typing ``data + ones``:\n",
    "![imagen](./numpy/numpy-arrays-adding-1.png)\n",
    "\n",
    "__Personal note__: When i started learning such tools, i found it kinda refreshing that an abstraction like this makes me not have to program such a calculation in loops. It’s a wonderful abstraction that allows you to think about problems at a higher level, but at the same time i thought if there's such of abstractions there shuolb be something weird behind it."
   ]
  },
  {
   "cell_type": "markdown",
   "metadata": {
    "slideshow": {
     "slide_type": "slide"
    }
   },
   "source": [
    "It’s not only addition that we can do this way (We can do almost everything like this):\n",
    "![image](./numpy/numpy-array-subtract-multiply-divide.png)"
   ]
  },
  {
   "cell_type": "markdown",
   "metadata": {
    "slideshow": {
     "slide_type": "slide"
    }
   },
   "source": [
    "There are often cases when we want carry out an operation between an array and a single number (we can also call this an operation between a vector and a scalar). Say, for example, our array represents distance in miles and we want to convert it to kilometers. We simply say data *1.6:\n",
    "![imagen](./numpy/numpy-array-broadcast.png)\n",
    "As we can see, NumPy understood that operation to mean that the multiplication should happen with each cell? That concept is called broadcasting, and it’s very useful."
   ]
  },
  {
   "cell_type": "markdown",
   "metadata": {
    "slideshow": {
     "slide_type": "slide"
    }
   },
   "source": [
    "# Indexing\n",
    "We can index and slice NumPy arrays in all the ways we can slice python lists:\n",
    "![imagen](./numpy/numpy-array-slice.png)"
   ]
  },
  {
   "cell_type": "markdown",
   "metadata": {
    "slideshow": {
     "slide_type": "slide"
    }
   },
   "source": [
    "# Aggregation\n",
    "Additional benefits Numpy has are aggregation functions:\n",
    "![imagen](./numpy/numpy-array-aggregation.png)\n",
    "In addition to ``min``, ``max``, and ``sum``, you get all the greats like ``mean`` to get the average, ``prod`` to get the result of multiplying all the elements together, ``std`` to get standard deviation, and plenty of others."
   ]
  },
  {
   "cell_type": "markdown",
   "metadata": {
    "slideshow": {
     "slide_type": "slide"
    }
   },
   "source": [
    "# In more dimensions\n",
    "All the examples we’ve looked at deal with vectors in one dimension. A key part of the beauty of NumPy is its ability to apply everything we’ve looked at so far to any number of dimensions!!!"
   ]
  },
  {
   "cell_type": "markdown",
   "metadata": {
    "slideshow": {
     "slide_type": "slide"
    }
   },
   "source": [
    "# Creating Matrices\n",
    "We can pass python lists of lists in the following shape to have NumPy create a matrix to represent them:\n",
    "```python\n",
    "np.array([1,2],[3,4]])\n",
    "```\n",
    "![imagen](./numpy/numpy-array-create-2d.png)\n",
    "We can also use the same methods we mentioned above (``ones()``, ``zeros()``, and ``random.random()``) as long as we give them a tuple describing the dimensions of the matrix we are creating:\n",
    "![imagen](./numpy/numpy-matrix-ones-zeros-random.png)"
   ]
  },
  {
   "cell_type": "markdown",
   "metadata": {
    "slideshow": {
     "slide_type": "slide"
    }
   },
   "source": [
    "# Matrix Arithmetic\n",
    "We can add and multiply matrices using arithmetic operators ``(+-*/)`` if the two matrices are the __same size__!!!!. \n",
    "NumPy handles those as position-wise operations:\n",
    "![imagen](./numpy/numpy-matrix-arithmetic.png)\n",
    "We can get away with doing these arithmetic operations on matrices of different size only if the different dimension is one (e.g. the matrix has only one column or one row), in which case NumPy uses its broadcast rules for that operation\n",
    "![imagen](./numpy/numpy-matrix-broadcast.png)"
   ]
  },
  {
   "cell_type": "markdown",
   "metadata": {
    "slideshow": {
     "slide_type": "slide"
    }
   },
   "source": [
    "# Dot Product\n",
    "A key distinction to make with arithmetic is the case of matrix multiplication using the dot product. NumPy gives every matrix a dot() method we can use to carry-out dot product operations with other matrices:\n",
    "![imagen](./numpy/numpy-matrix-dot-product-1.png)\n",
    "We've added matrix dimensions at the bottom of this figure to stress that the two matrices have to have the same dimension on the side they face each other with. You can visualize this operation as looking like this:\n",
    "![imagen](./numpy/numpy-matrix-dot-product-2.png)"
   ]
  },
  {
   "cell_type": "markdown",
   "metadata": {
    "slideshow": {
     "slide_type": "slide"
    }
   },
   "source": [
    "# Matrix Indexing\n",
    "Indexing and slicing operations become even more useful when we’re manipulating matrices:\n",
    "![imagen](./numpy/numpy-matrix-indexing.png)"
   ]
  },
  {
   "cell_type": "markdown",
   "metadata": {
    "slideshow": {
     "slide_type": "slide"
    }
   },
   "source": [
    "# Matrix Aggregation\n",
    "We can aggregate matrices the same way we aggregated vectors:\n",
    "![imagen](./numpy/numpy-matrix-aggregation-1.png)"
   ]
  },
  {
   "cell_type": "markdown",
   "metadata": {
    "slideshow": {
     "slide_type": "slide"
    }
   },
   "source": [
    "Not only can we aggregate all the values in a matrix, but we can also aggregate across the rows or columns by using the axis parameter:\n",
    "![imagen](./numpy/numpy-matrix-aggregation-4.png)\n",
    "![imagen](./numpy/numpy-matrix-aggregation-3.png)"
   ]
  },
  {
   "cell_type": "markdown",
   "metadata": {
    "slideshow": {
     "slide_type": "slide"
    }
   },
   "source": [
    "# Transposing and Reshaping\n",
    "A common need when dealing with matrices is the need to rotate them. This is often the case when we need to take the dot product of two matrices and need to align the dimension they share. NumPy arrays have a convenient property called T to get the transpose of a matrix:\n",
    "![imagen](./numpy/numpy-transpose.png)"
   ]
  },
  {
   "cell_type": "markdown",
   "metadata": {
    "slideshow": {
     "slide_type": "slide"
    }
   },
   "source": [
    "In more advanced use case, you may find yourself needing to switch the dimensions of a certain matrix. This is often the case in __machine learning__ applications where a certain model expects a certain shape for the inputs that is different from your dataset. NumPy’s reshape() method is useful in these cases. You just pass it the new dimensions you want for the matrix. You can pass -1 for a dimension and NumPy can infer the correct dimension based on your matrix:\n",
    "![imagen](./numpy/numpy-reshape.png)"
   ]
  },
  {
   "cell_type": "markdown",
   "metadata": {
    "slideshow": {
     "slide_type": "slide"
    }
   },
   "source": [
    "# Yet More Dimensions\n",
    "NumPy can do everything we’ve mentioned in any number of dimensions. Its central data structure is called ndarray (N-Dimensional Array) for a reason.\n",
    "![imagen](./numpy/numpy-3d-array.png)\n",
    "In a lot of ways, dealing with a new dimension is just adding a comma to the parameters of a NumPy function:\n",
    "![imagen](./numpy/numpy-3d-array-creation.png)"
   ]
  },
  {
   "cell_type": "markdown",
   "metadata": {
    "slideshow": {
     "slide_type": "slide"
    }
   },
   "source": [
    "# Practical Usage\n",
    "And now for the payoff. Here are some examples of the useful things NumPy will help you through."
   ]
  },
  {
   "cell_type": "markdown",
   "metadata": {
    "slideshow": {
     "slide_type": "slide"
    }
   },
   "source": [
    "# Formulas\n",
    "Implementing mathematical formulas that work on matrices and vectors is a key use case to consider NumPy for. This is the main reason why NumPy is the darling of the scientific python community. For example, consider the mean square error formula that is central to supervised machine learning models tackling regression problems:\n",
    "![imagen](./numpy/mean-square-error-formula.png)"
   ]
  },
  {
   "cell_type": "markdown",
   "metadata": {
    "slideshow": {
     "slide_type": "slide"
    }
   },
   "source": [
    "Implementing this is quite simple in NumPy:\n",
    "![imagen](./numpy/numpy-mean-square-error-formula.png)"
   ]
  },
  {
   "cell_type": "markdown",
   "metadata": {
    "slideshow": {
     "slide_type": "slide"
    }
   },
   "source": [
    "The beauty of this is that numpy does not care if ``predictions`` and ``labels`` contain one or a thousand values (as long as they’re both the same size). We can walk through an example stepping sequentially through the four operations in that line of code:\n",
    "\n",
    "![imagen](./numpy/numpy-mse-1.png)"
   ]
  },
  {
   "cell_type": "markdown",
   "metadata": {
    "slideshow": {
     "slide_type": "slide"
    }
   },
   "source": [
    "Both the predictions and labels vectors contain three values. Which means n has a value of three. After we carry out the subtraction, we end up with the values looking like this:\n",
    "\n",
    "![imagen](./numpy/numpy-mse-2.png)"
   ]
  },
  {
   "cell_type": "markdown",
   "metadata": {
    "slideshow": {
     "slide_type": "slide"
    }
   },
   "source": [
    "Then we can square the values in the vector:\n",
    "![imagen](./numpy/numpy-mse-3.png)"
   ]
  },
  {
   "cell_type": "markdown",
   "metadata": {
    "slideshow": {
     "slide_type": "slide"
    }
   },
   "source": [
    "Now we sum these values:\n",
    "![imagen](./numpy/numpy-mse-4.png)\n",
    "Which results in the error value for that prediction and a score for the quality of the model."
   ]
  },
  {
   "cell_type": "markdown",
   "metadata": {
    "slideshow": {
     "slide_type": "slide"
    }
   },
   "source": [
    "# Data Representation\n",
    "Think of all the data types you’ll need to crunch and build models around (spreadsheets, images, audio…etc). So many of them are perfectly suited for representation in an n-dimensional array:"
   ]
  },
  {
   "cell_type": "markdown",
   "metadata": {
    "slideshow": {
     "slide_type": "slide"
    }
   },
   "source": [
    "<p style=\"list-style-type:disc;font-size:1.9em;color:#990012;font-style:bold \">Tables and Spreadsheets</p>"
   ]
  },
  {
   "cell_type": "markdown",
   "metadata": {
    "slideshow": {
     "slide_type": "slide"
    }
   },
   "source": [
    "* A spreadsheet or a table of values is a two dimensional matrix. Each sheet in a spreadsheet can be its own variable. The most popular abstraction in python for those is the pandas dataframe, which actually uses NumPy and builds on top of it.\n",
    "\n",
    "![imagen](./numpy/excel-to-pandas.png)\n",
    "\n",
    "<p style=\"list-style-type:disc;font-size:1.9em;color:#990012;font-style:bold \">Audio and Timeseries</p>"
   ]
  },
  {
   "cell_type": "markdown",
   "metadata": {
    "slideshow": {
     "slide_type": "slide"
    }
   },
   "source": [
    "* An audio file is a one-dimensional array of samples. Each sample is a number representing a tiny chunk of the audio signal. CD-quality audio may have 44,100 samples per second and each sample is an integer between -65535 and 65536. Meaning if you have a ten-seconds WAVE file of CD-quality, you can load it in a NumPy array with length 10 * 44,100 = 441,000 samples. Want to extract the first second of audio? simply load the file into a NumPy array that we’ll call audio, and get audio[:44100].\n",
    "\n",
    "Here’s a look at a slice of an audio file:\n",
    "![imagen](./numpy/numpy-audio.png)\n",
    "The same goes for time-series data (for example, the price of a stock over time)."
   ]
  },
  {
   "cell_type": "markdown",
   "metadata": {
    "slideshow": {
     "slide_type": "slide"
    }
   },
   "source": [
    "<p style=\"list-style-type:disc;font-size:1.9em;color:#990012;font-style:bold \">Images</p>"
   ]
  },
  {
   "cell_type": "markdown",
   "metadata": {
    "slideshow": {
     "slide_type": "slide"
    }
   },
   "source": [
    "* An image is a matrix of pixels of size (height x width).\n",
    "    * If the image is black and white (a.k.a. grayscale), each pixel can be represented by a single number (commonly between 0 (black) and 255 (white)). Want to crop the top left 10 x 10 pixel part of the image? Just tell NumPy to get you image[:10,:10].\n",
    "    \n",
    "Here’s a look at a slice of an image file:"
   ]
  },
  {
   "cell_type": "markdown",
   "metadata": {
    "slideshow": {
     "slide_type": "slide"
    }
   },
   "source": [
    "![imagen](./numpy/numpy-grayscale-image.png)"
   ]
  },
  {
   "cell_type": "markdown",
   "metadata": {
    "slideshow": {
     "slide_type": "slide"
    }
   },
   "source": [
    "* If the image is colored, then each pixel is represented by three numbers - a value for each of red, green, and blue. In that case we need a 3rd dimension (because each cell can only contain one number). So a colored image is represented by an ndarray of dimensions: (height x width x 3)."
   ]
  },
  {
   "cell_type": "markdown",
   "metadata": {
    "slideshow": {
     "slide_type": "slide"
    }
   },
   "source": [
    "![imagen](./numpy/numpy-color-image.png)"
   ]
  },
  {
   "cell_type": "markdown",
   "metadata": {
    "slideshow": {
     "slide_type": "slide"
    }
   },
   "source": [
    "<p style=\"list-style-type:disc;font-size:1.9em;color:#990012;font-style:bold \">Language</p>\n",
    "If we’re dealing with text, the story is a little different. The numeric representation of text requires a step of building a vocabulary (an inventory of all the unique words the model knows) and an embedding step. Let us see the steps of numerically representing this (translated) quote by an ancient spirit:\n",
    "\n",
    "“Have the bards who preceded me left any theme unsung?”\n",
    "\n",
    "A model needs to look at a large amount of text before it can numerically represent the anxious words of this warrior poet. We can proceed to have it process a small dataset and use it to build a vocabulary (of 71,290 words):"
   ]
  },
  {
   "cell_type": "markdown",
   "metadata": {
    "slideshow": {
     "slide_type": "slide"
    }
   },
   "source": [
    "![imagen](./numpy/numpy-nlp-vocabulary.png)"
   ]
  },
  {
   "cell_type": "markdown",
   "metadata": {
    "slideshow": {
     "slide_type": "slide"
    }
   },
   "source": [
    "The sentence can then be broken into an array of tokens (words or parts of words based on common rules):\n",
    "![imagen](./numpy/numpy-nlp-tokenization.png)\n",
    "We then replace each word by its id in the vocabulary table:\n",
    "![imagen](./numpy/numpy-nlp-ids.png)\n",
    "These ids still don’t provide much information value to a model. So before feeding a sequence of words to a model, the tokens/words need to be replaced with their embeddings (50 dimension word2vec embedding in this case):\n",
    "![imagen](./numpy/numpy-nlp-embeddings.png)"
   ]
  },
  {
   "cell_type": "markdown",
   "metadata": {
    "slideshow": {
     "slide_type": "slide"
    }
   },
   "source": [
    "You can see that this NumPy array has the dimensions [embedding_dimension x sequence_length]. In practice these would be the other way around, but I’m presenting it this way for visual consistency. For performance reasons, deep learning models tend to preserve the first dimension for batch size (because the model can be trained faster if multiple examples are trained in parallel). This is a clear case where reshape() becomes super useful. A model like [BERT](http://ruder.io/nlp-imagenet/), for example, would expect its inputs in the shape: [batch_size, sequence_length, embedding_size].\n",
    "![imagen](./numpy/numpy-nlp-bert-shape.png)"
   ]
  },
  {
   "cell_type": "markdown",
   "metadata": {
    "slideshow": {
     "slide_type": "slide"
    }
   },
   "source": [
    "This is now a numeric volume that a model can crunch and do useful things with. I left the other rows empty, but they’d be filled with other examples for the model to train on (or predict)."
   ]
  }
 ],
 "metadata": {
  "celltoolbar": "Slideshow",
  "kernelspec": {
   "display_name": "Python 3",
   "language": "python",
   "name": "python3"
  },
  "language_info": {
   "codemirror_mode": {
    "name": "ipython",
    "version": 3
   },
   "file_extension": ".py",
   "mimetype": "text/x-python",
   "name": "python",
   "nbconvert_exporter": "python",
   "pygments_lexer": "ipython3",
   "version": "3.7.1"
  },
  "nbTranslate": {
   "displayLangs": [
    "*"
   ],
   "hotkey": "alt-t",
   "langInMainMenu": true,
   "sourceLang": "en",
   "targetLang": "fr",
   "useGoogleTranslate": true
  },
  "toc": {
   "base_numbering": 1,
   "nav_menu": {},
   "number_sections": true,
   "sideBar": true,
   "skip_h1_title": false,
   "title_cell": "Table of Contents",
   "title_sidebar": "Contents",
   "toc_cell": false,
   "toc_position": {},
   "toc_section_display": true,
   "toc_window_display": false
  },
  "varInspector": {
   "cols": {
    "lenName": 16,
    "lenType": 16,
    "lenVar": 40
   },
   "kernels_config": {
    "python": {
     "delete_cmd_postfix": "",
     "delete_cmd_prefix": "del ",
     "library": "var_list.py",
     "varRefreshCmd": "print(var_dic_list())"
    },
    "r": {
     "delete_cmd_postfix": ") ",
     "delete_cmd_prefix": "rm(",
     "library": "var_list.r",
     "varRefreshCmd": "cat(var_dic_list()) "
    }
   },
   "types_to_exclude": [
    "module",
    "function",
    "builtin_function_or_method",
    "instance",
    "_Feature"
   ],
   "window_display": false
  }
 },
 "nbformat": 4,
 "nbformat_minor": 2
}
