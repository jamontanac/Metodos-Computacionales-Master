{
 "cells": [
  {
   "cell_type": "markdown",
   "metadata": {},
   "source": [
    "# Numeros Aleatorios\n",
    "\n",
    "En python, en la libreria de numpy, existen muchas funciones ya implementadas para la generación de números aleatorios con distintos tipos de distribuciones, entre esas se encuentran las siguientes opcciones\n",
    "\n",
    "1. `seed(seed)`: Inicializa el generador con un entero que determina la \"semilla\" del generador.\n",
    "2. `rand(d0,d1,...,dn)`: Retorna un arreglo multidimensional de numeros con distribución uniforme, la cual tiene la forma (d0, d1, ... , dn).\n",
    "3. `randn(d0,d1,...,dn)`: funcion igual que la función anterior salvo que este generador proporciona números de una distribución normal ($\\mu=0,\\sigma=1$).\n",
    "4. `binomial(M,p,size)`: Saca una muestra con distribución binomial con parámetros $M$ y $p$.\n",
    "5. `poisson(a,size)`: Saca una muestra con distribución de poisson con parámetro $a$.\n",
    "6. `choice([-1,1],size)`: Genera un muestreo aleatorio de un arreglo que se le entregue, para este caso serían dos opciones $1$ o $-1$.\n",
    "7. `normal(ave,std,size)`: Genera una muestra aleatoria de numeros con distribución gaussiana con parámetros $\\mu=$ave y $\\sigma=$std.\n",
    "8. `uniform([low,high,size])`: Genera muestras de una distribución uniforme en el interbalo (low,hihg).\n",
    "\n",
    "\n",
    "Para más detalles consulte \n",
    "\n",
    "https://docs.scipy.org/doc/numpy-1.14.1/reference/routines.random.html"
   ]
  },
  {
   "cell_type": "markdown",
   "metadata": {},
   "source": [
    "La idea de los siguientes ejercicios es hacer uso de tan sólo las funciones 1,2 y 3 para generar números con otras distribuciones."
   ]
  },
  {
   "cell_type": "code",
   "execution_count": 30,
   "metadata": {},
   "outputs": [],
   "source": [
    "import numpy as np\n",
    "import math \n",
    "import matplotlib.pyplot as plt "
   ]
  },
  {
   "cell_type": "markdown",
   "metadata": {},
   "source": [
    "# Ejercicio 1\n",
    "Haciendo uso del generador ``rand`` implemente su propio generador aleatorio de una distribución binomial.\n",
    "Con el fin de verificar que su generador está obteniendo los resultados esperados, use la función de numpy ``binomial`` y haga histogramas de su implementación con la implementación de numpy. \n",
    "\n",
    "__Nota__: Tenga en cuenta que la distribución binomial es una distribución de tipo discreta y la uniforme generada por la función ``rand`` es de tipo continua, entonces debe pensar una forma de pasar de una distribución continua a una discreta. "
   ]
  },
  {
   "cell_type": "code",
   "execution_count": null,
   "metadata": {},
   "outputs": [],
   "source": []
  },
  {
   "cell_type": "markdown",
   "metadata": {},
   "source": [
    "# Ejercicio 2\n",
    "Haciendo uso del generador ``randn`` genere números aleatorios con distribución gaussiana con parámetros $\\mu=5$ y $\\sigma=3$, compare sus resultados con la función ``normal`` de numpy y haga los"
   ]
  },
  {
   "cell_type": "code",
   "execution_count": null,
   "metadata": {},
   "outputs": [],
   "source": []
  },
  {
   "cell_type": "markdown",
   "metadata": {},
   "source": [
    "Una de las propiedades interesantes que tiene la distribución binomial es que bajo ciertos valores de sus parámetros se puede obtener en cierto limite una distribución de Poisson o una distribución gaussiana (Revise el teorema del limite central). Esto de derivan de los siguientes teoremas.\n",
    "\n",
    "__Teorema del limite de Poisson__: Si $n \\rightarrow \\infty$ y $p\\rightarrow 0$ manteniendo el producto $np$ constante, se tiene que la distribución binomial $\\mathcal{B}(n,p)$ se aproxima a una distribución de tipo Poisson con parámetro $\\lambda=np$.\n",
    "\n",
    "$$\\lim_{(n,p) \\to (\\infty,0)|np=k} \\mathcal{B}(n,p) \\xrightarrow{\\textit{d}} \\mathcal{P}(\\lambda=np)$$\n",
    "# Ejercicio 3\n",
    "Con el fin de observar esto, use la función del ejercicio anterior para ilustrar este teorema, qué valores deben tomar $n$ y $p$ para que se asemeje bastante a una distribución de Poisson, haga una gráfica en donde compare sus resultados con los que se esperaría en una distribución de Poisson."
   ]
  },
  {
   "cell_type": "code",
   "execution_count": null,
   "metadata": {},
   "outputs": [],
   "source": []
  },
  {
   "cell_type": "markdown",
   "metadata": {},
   "source": [
    "__Teorema de Moivre-Laplace__: Si $n\\rightarrow\\infty$ mientras que $p$ permanece constante, la distribución:\n",
    "\n",
    "$$\\frac {X-np}{\\sqrt {np(1-p)}} $$\n",
    "\n",
    "Con $X$ una bariable aleatoria de tipo binomial ($X\\xrightarrow{\\textit{d}}\\mathcal{B}(n,p)$), se aproxima a una distribución de tipo normal con parámetros $\\mu=0$ y $\\sigma=1$. Este resultado se suele mencionar diciendo que $X$ distribulle de forma asisntotica a una distribución normal con valor esperado $np$ y varianza $np(1-np)$. Este resultado es un resultado particular del teorema del limite central (TLC).\n",
    "# Ejercicio 4\n",
    "Al igual que en el ejercicio anterior use la función del primer punto para ilustrar este resultado, encuentre los valores de $n$ y $p$ tal que la distribución binomial se aproxime a una distribución normal.\n",
    "Efectue las respectivas gráficas para hacer las comparaciones."
   ]
  },
  {
   "cell_type": "code",
   "execution_count": null,
   "metadata": {},
   "outputs": [],
   "source": []
  }
 ],
 "metadata": {
  "kernelspec": {
   "display_name": "Python 3",
   "language": "python",
   "name": "python3"
  },
  "language_info": {
   "codemirror_mode": {
    "name": "ipython",
    "version": 3
   },
   "file_extension": ".py",
   "mimetype": "text/x-python",
   "name": "python",
   "nbconvert_exporter": "python",
   "pygments_lexer": "ipython3",
   "version": "3.7.1"
  },
  "nbTranslate": {
   "displayLangs": [
    "*"
   ],
   "hotkey": "alt-t",
   "langInMainMenu": true,
   "sourceLang": "en",
   "targetLang": "fr",
   "useGoogleTranslate": true
  },
  "toc": {
   "base_numbering": 1,
   "nav_menu": {},
   "number_sections": true,
   "sideBar": true,
   "skip_h1_title": false,
   "title_cell": "Table of Contents",
   "title_sidebar": "Contents",
   "toc_cell": false,
   "toc_position": {},
   "toc_section_display": true,
   "toc_window_display": false
  },
  "varInspector": {
   "cols": {
    "lenName": 16,
    "lenType": 16,
    "lenVar": 40
   },
   "kernels_config": {
    "python": {
     "delete_cmd_postfix": "",
     "delete_cmd_prefix": "del ",
     "library": "var_list.py",
     "varRefreshCmd": "print(var_dic_list())"
    },
    "r": {
     "delete_cmd_postfix": ") ",
     "delete_cmd_prefix": "rm(",
     "library": "var_list.r",
     "varRefreshCmd": "cat(var_dic_list()) "
    }
   },
   "types_to_exclude": [
    "module",
    "function",
    "builtin_function_or_method",
    "instance",
    "_Feature"
   ],
   "window_display": false
  }
 },
 "nbformat": 4,
 "nbformat_minor": 2
}
