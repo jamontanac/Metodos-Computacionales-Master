{
 "cells": [
  {
   "cell_type": "markdown",
   "metadata": {},
   "source": [
    "# Fibonacci Problem\n",
    "Sometimes Recursion comes with a price to pay and this is the time of computation, due to the times it has to call itself (it can grow exponentially with the number of recursions it does. a perfect example of this is Fibonacci sequence. the $n$-th element can be obtained by calling its previous\n",
    "$$F(n)=F(n-1)+F(n-2),$$\n",
    "\n",
    "with $F(0)=0, F(1)=1$\n",
    "which means that we can obtain the sequences by calling a function of the previous elements.\n",
    "\n",
    "Your task is to first implement and see how recursion can make the code grow exponentially in function of $n$. To do this:\n",
    "1. make a function that is going to be called ``fib_recursion`` which is gonna take $n$ as a parameter and returns the $n$-th term of the Fibonacci sequence. Test your code with $n<30$.\n",
    "your code should look like this:\n",
    "```python\n",
    "def fib_recursion(n):\n",
    "    #Your answer here\n",
    "    return n_fibonacci\n",
    "```\n",
    "2. In order to observe the performance of this routine make a loop in which $n$ varies from 1 to 40 and register the time each iteration takes to compute. to do this you'll have to use a library called ``time``, and it can be called as follows:\n",
    "```python\n",
    "import time\n",
    "for i in range(n):\n",
    "    init=time.time()\n",
    "    #your process\n",
    "    difference_time=time.time()-init\n",
    "```\n",
    "So keep the times of each iteration and the number of the iteration in different lists (to do this use the append method) and then plot the time taken in function of the number of the iteration. To plot use the next command\n",
    "```python\n",
    "import matplotlib.pylab as plt\n",
    "plt.plot(list_of_n,list_of_times)\n",
    "plt.show()\n",
    "```\n",
    "\n",
    "3. That was the warm up, now we are going to implement an optimization of the last function. to do this you can see that the Fibonacci sequence can be done without calling many times itself, now implement a function that takes the a number $n$ and returns the $n$-th term of the Fibonacci sequence. To do this see that you can start with $a=1,b=0$ and then create the new term by doing \n",
    "\n",
    "```python\n",
    "a <-- a+b\n",
    "b <-- a\n",
    "```\n",
    "if you get confused check this [Help](https://mitpress.mit.edu/sites/default/files/sicp/full-text/book/book-Z-H-11.html#%_sec_1.2.4) to guide you in the process.\n",
    "\n",
    "4. Once you implemented your code test it again with little numbers and repeat the same part of the 3-th numeral and measure the time it take to compute the first 100 Fibonacci numbers and plot it.\n",
    "What is the main difference you notice in both plots. what can you conclude about the first method implemented?.\n",
    "Give a reason why it is so different and why they can be that different if they are both doing the same thing.\n",
    "\n",
    "\n",
    "## Bonus\n",
    "Implement the last method but this time the function has to be such that it can receive negative values of $n$ \n",
    "\n",
    "$$\n",
    "F(-1)=1,\\ F(-2)=-1,\\ F(-3)=2,\\ F(-4)=-3,\\ F(-5)=5, F(-6)= -8, \\ F(-7) = 13\\ F(-8) = -21\n",
    "$$"
   ]
  },
  {
   "cell_type": "markdown",
   "metadata": {},
   "source": [
    "# Euler's method for a first-order ODE\n",
    "\n",
    "We want to calculate the shape of an unknown curve which starts at a given point with a given slope. This curve satisfies an ordinary differential equation (ODE):\n",
    "\n",
    "$$\n",
    "\\frac{dy}{dx} = f(x, y(x))\\ \\text{with} \\ y(x_0) = y_0\n",
    "$$\n",
    "\n",
    "The starting point $A_0$ ($x_0$, $y_0$) is known as well as the slope to the curve at $A_0$ and then the tangent line at $A_0$ .\n",
    "\n",
    "Take a small step along that tangent line up to a point $A_1$. Along this small step, the slope does not change too much, so $A_1$ will be close to the curve. If we suppose that $A_1$ is close enough to the curve, the same reasoning as for the point $A_1$ above can be used for other points. After several steps, a polygonal curve $A_0$, $A_1$, .. , An is computed. The error between the 2 curves can be small if the step is small.\n",
    "\n",
    "We define points $A_0$, $A_1$, $A_2$, ... , An whose x-coordinates are $x_0$, $x_1$ , ... , $x_n$ and y-coordinates are such that $y_{k+1} = y_k + f(x_k, y_k) * h$ where $h$ is the common step. If $T$ is the length $x_n - x_0$ we have $h = T/n$.\n",
    "\n",
    "We will take as an example the differential equation:\n",
    "\n",
    "$$\n",
    "\\frac{dy}{dt} = 2 - exp(-4t) - 2y\\  \\text{with} \\ x_0 = 0, y_0 = 1, T = 1.\n",
    "$$\n",
    "\n",
    "We know that an exact solution is $y = 1 + 0.5exp(-4t) - 0.5exp(-2t)$. For each $x_k$ we are able to calculate the $y_k$ as well as the values $z_k$ of the exact solution.\n",
    "\n",
    "Our task is, for a given number $n$ of steps, to return the mean (truncated to 6 decimals) of the relative errors between the $y_k$ of the $n+1$ points $A_k$ of our polygonal line and the $n+1$ $z_k$ of our exact solution. For that we can use:\n",
    "\n",
    "\n",
    "error in $A_k = abs(y_k - z_k) / z_k$ and then the mean is $\\text{sum}(\\text{errors in}\\  A_k) / (n + 1)$.\n",
    "\n",
    "Examples:\n",
    "\n",
    "```python\n",
    "ex_euler(10) should return: 0.026314 (from 0.026314433214799246)\n",
    "with\n",
    "Y = [1.0,0.9..,0.85..,0.83..,0.83..,0.85..,0.86..,0.88..,0.90..,0.91..,0.93..]\n",
    "Z = [1.0,0.9..,0.88..,0.87..,0.87..,0.88..,0.89..,0.90..,0.91..,0.93..,0.94..]\n",
    "Relative errors = [0.0,0.02.,0.04..,0.04..,0.04..,0.03..,0.03..,0.02..,0.01..,0.01..,0.01..]\n",
    "```\n",
    "\n",
    "```python\n",
    "ex_euler(17) should return:0.015193 (from 0.015193336263370796)\n",
    "```\n",
    "\n",
    "[Reference](https://en.wikipedia.org/wiki/Euler_method)\n",
    "\n",
    "Also plot the solutions and the error in function of time. Comment about the main source of error, what could yo do to reduce the error\n",
    "\n",
    "\n",
    "2. Repeat the last part but this time reduce the size of the of the step $h$ and plot again the solution the result and the error.\n",
    "What can you conclude from this?"
   ]
  },
  {
   "cell_type": "markdown",
   "metadata": {},
   "source": [
    "# Strings\n",
    "Write a function that takes a string of braces, and determines if the order of the braces is valid. It should return true if the string is valid, and false if it's invalid.\n",
    "\n",
    "All input strings will be nonempty, and will only consist of parentheses, brackets and curly braces: ()[]{}.\n",
    "\n",
    "What is considered Valid?\n",
    "A string of braces is considered valid if all braces are matched with the correct brace.\n",
    "\n",
    "Examples\n",
    "```python\n",
    "\"()\"                  =>  True\n",
    "\")(()))\"              =>  False\n",
    "\"(\"                   =>  False\n",
    "\"(())((()())())\"      =>  True\n",
    "\"[(}\"                 =>  False\n",
    "\"{[[((({((()))})))]]}\"=>  True\n",
    "```\n",
    "### Constraints\n",
    "```python\n",
    "0 <= input.length <= 100\n",
    "```\n",
    "Along with opening (() and closing ()) parenthesis, input may contain any valid ASCII characters. Furthermore, the input string may be empty and/or not contain any parentheses at all. Do not treat other forms of brackets as parentheses (e.g. [], {}, <>).\n",
    "\n"
   ]
  },
  {
   "cell_type": "markdown",
   "metadata": {},
   "source": [
    "# List of lists\n",
    "given a list of random integers create a list of lists such that each element is going to be a list times the number it has. the result must be organized in increasing order for example:\n",
    "\n",
    "Given \n",
    "```python\n",
    "[1,3,2,8,6] ---> [[1],[2,2],[3,3,3],[6,6,6,6,6,6],[8,8,8,8,8,8,8,8]]\n",
    "```\n",
    "to do this first you must implement your own method to sort the list and then use the append method."
   ]
  },
  {
   "cell_type": "markdown",
   "metadata": {},
   "source": [
    "# Sorting things in other way\n",
    "\n",
    "in this task you're expected to sort an array of 32-bit integers in ascending order of the number of on bits they have.\n",
    "\n",
    "E.g Given the array [7, 6, 15, 8]\n",
    "\n",
    "7 has 3 on bits (000...0111)\n",
    "6 has 2 on bits (000...0011)\n",
    "15 has 4 on bits (000...1111)\n",
    "8 has 1 on bit (000...1000)\n",
    "So the array in sorted order would be [8, 6, 7, 15].\n",
    "\n",
    "In cases where two numbers have the same number of bits, compare their real values instead.\n",
    "\n",
    "E.g between 10 (...1010) and 12 (...1100), they both have the same number of on bits '2' but the integer 10 is less than 12 so it comes first in sorted order.\n",
    "\n",
    "Your task is to write the function sortBybit() that takes an array of integers and sort them as described above.\n",
    "\n",
    "```python\n",
    "\n",
    "sortByBit([3, 8, 3, 6, 5, 7, 9, 1]) // => [1, 8, 3, 3, 5, 6, 9, 7]\n",
    "```"
   ]
  },
  {
   "cell_type": "code",
   "execution_count": null,
   "metadata": {},
   "outputs": [],
   "source": []
  }
 ],
 "metadata": {
  "kernelspec": {
   "display_name": "Python 3",
   "language": "python",
   "name": "python3"
  },
  "language_info": {
   "codemirror_mode": {
    "name": "ipython",
    "version": 3
   },
   "file_extension": ".py",
   "mimetype": "text/x-python",
   "name": "python",
   "nbconvert_exporter": "python",
   "pygments_lexer": "ipython3",
   "version": "3.7.1"
  },
  "nbTranslate": {
   "displayLangs": [
    "*"
   ],
   "hotkey": "alt-t",
   "langInMainMenu": true,
   "sourceLang": "en",
   "targetLang": "fr",
   "useGoogleTranslate": true
  },
  "toc": {
   "base_numbering": 1,
   "nav_menu": {},
   "number_sections": true,
   "sideBar": true,
   "skip_h1_title": false,
   "title_cell": "Table of Contents",
   "title_sidebar": "Contents",
   "toc_cell": false,
   "toc_position": {},
   "toc_section_display": true,
   "toc_window_display": false
  },
  "varInspector": {
   "cols": {
    "lenName": 16,
    "lenType": 16,
    "lenVar": 40
   },
   "kernels_config": {
    "python": {
     "delete_cmd_postfix": "",
     "delete_cmd_prefix": "del ",
     "library": "var_list.py",
     "varRefreshCmd": "print(var_dic_list())"
    },
    "r": {
     "delete_cmd_postfix": ") ",
     "delete_cmd_prefix": "rm(",
     "library": "var_list.r",
     "varRefreshCmd": "cat(var_dic_list()) "
    }
   },
   "types_to_exclude": [
    "module",
    "function",
    "builtin_function_or_method",
    "instance",
    "_Feature"
   ],
   "window_display": false
  }
 },
 "nbformat": 4,
 "nbformat_minor": 2
}
