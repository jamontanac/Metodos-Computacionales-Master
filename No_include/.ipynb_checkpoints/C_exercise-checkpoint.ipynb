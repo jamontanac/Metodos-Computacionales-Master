{
 "cells": [
  {
   "cell_type": "markdown",
   "metadata": {
    "slideshow": {
     "slide_type": "slide"
    }
   },
   "source": [
    "# Interesting things about C++\n",
    "there are many things we can do with C++, however, as always is not easy to know how to do it, but take into account that there are many programs that are made with C++. Specially in science, we have are used to deal with problems that deal with a lot of complexity. Begin the reason why we need a language that is capable to scale our problems."
   ]
  },
  {
   "cell_type": "markdown",
   "metadata": {
    "slideshow": {
     "slide_type": "fragment"
    }
   },
   "source": [
    "__Note:__ The solution of the exercise have to be uploaded to the repository and the questions asked have to be answered in a readme.md that has to be uploaded to the repo."
   ]
  },
  {
   "cell_type": "markdown",
   "metadata": {
    "slideshow": {
     "slide_type": "slide"
    }
   },
   "source": [
    "## Examples of functions\n",
    "#### Void argument\n",
    "```c++\n",
    "#include <iostream>\n",
    "void print_message(void)\n",
    "{\n",
    "    std::cout<< \"this is a message\" <<std::endl;\n",
    "}\n",
    "\n",
    "int main(void)\n",
    "{\n",
    "    print_message();\n",
    "    return 0;\n",
    "}\n",
    "```"
   ]
  },
  {
   "cell_type": "markdown",
   "metadata": {
    "slideshow": {
     "slide_type": "slide"
    }
   },
   "source": [
    "### int arguments\n",
    "\n",
    "```c++\n",
    "#include <iostream>\n",
    "int addition(int a, int b)\n",
    "{\n",
    "    int r;\n",
    "    r=a+b;\n",
    "    return r;\n",
    "}\n",
    "\n",
    "int main(void)\n",
    "{\n",
    "    int z;\n",
    "    z=addition(5,3);\n",
    "    std::cout<< \"The result is \" <<z;\n",
    "    return 0;\n",
    "}\n",
    "```"
   ]
  },
  {
   "cell_type": "markdown",
   "metadata": {
    "slideshow": {
     "slide_type": "slide"
    }
   },
   "source": [
    "## Calling multiple times\n",
    "\n",
    "```c++\n",
    "#include <iostream>\n",
    "int subtraction(int a, int b)\n",
    "{\n",
    "    int r;\n",
    "    r=a-b;\n",
    "    return r;\n",
    "}\n",
    "\n",
    "int main(void)\n",
    "{\n",
    "    int x=5,y=3,z;\n",
    "    z=subtraction(7,2);\n",
    "    std::cout<< \"The first result is \" <<z<<\"\\n\";\n",
    "    std::cout<< \"The second result is \" <<subtraction(7,2)<<\"\\n\";\n",
    "    std::cout<< \"The third result is \" <<subtraction(x,y)<<\"\\n\";\n",
    "    z=4+subtraction(x,y);\n",
    "    std::cout<< \"The fourth result is \" <<z<<\"\\n\";\n",
    "    return 0;\n",
    "}\n",
    "```"
   ]
  },
  {
   "cell_type": "markdown",
   "metadata": {
    "slideshow": {
     "slide_type": "slide"
    }
   },
   "source": [
    "![imagen](https://raw.githubusercontent.com/JoseMontanaC/Laboratorio-Metodos-Computacionales/master/results_1.PNG)"
   ]
  },
  {
   "cell_type": "markdown",
   "metadata": {
    "slideshow": {
     "slide_type": "slide"
    }
   },
   "source": [
    "## Exercise 1.\n",
    "In the last code print the memory address for each variable to check that they are indeed at different memory locations. (use the operator &)"
   ]
  },
  {
   "cell_type": "markdown",
   "metadata": {
    "slideshow": {
     "slide_type": "slide"
    }
   },
   "source": [
    "## Reference\n",
    "```c++\n",
    "#include <iostream>\n",
    "int addition(int &a, int b)\n",
    "{\n",
    "    int r;\n",
    "    r=a+b;\n",
    "    a=r;\n",
    "    return r;\n",
    "}\n",
    "\n",
    "int main(void)\n",
    "{\n",
    "    int x,y,z;\n",
    "    x=5;\n",
    "    y=3;\n",
    "    z=addition(x,y);\n",
    "    std::cout<< \"The result is \" <<z<<\"\\n\";\n",
    "    std::cout<< \"The value of x is \" <<x<<\"\\n\"\n",
    "    return 0;\n",
    "}\n",
    "```"
   ]
  },
  {
   "cell_type": "markdown",
   "metadata": {
    "slideshow": {
     "slide_type": "slide"
    }
   },
   "source": [
    "## Value\n",
    "```c++\n",
    "#include <iostream>\n",
    "int addition(int a, int b)\n",
    "{\n",
    "    int r;\n",
    "    r=a+b;\n",
    "    a=r;\n",
    "    return r;\n",
    "}\n",
    "\n",
    "int main(void)\n",
    "{\n",
    "    int x,y,z;\n",
    "    x=5;\n",
    "    y=3;\n",
    "    z=addition(x,y);\n",
    "    std::cout<< \"The result is \" <<z<<\"\\n\";\n",
    "    std::cout<< \"The value of x is \" <<x<<\"\\n\"\n",
    "    return 0;\n",
    "}\n",
    "```"
   ]
  },
  {
   "cell_type": "markdown",
   "metadata": {
    "slideshow": {
     "slide_type": "slide"
    }
   },
   "source": [
    "## Exercise 2\n",
    "Now run the code with the reference and see what it outputs. Then use the word ``const`` before to declare the variable ``a``\n",
    "```c++\n",
    "int addition(const int &a, int b)\n",
    "```\n",
    "and run it again, does it compile?. What do you think is happening?"
   ]
  },
  {
   "cell_type": "markdown",
   "metadata": {
    "slideshow": {
     "slide_type": "slide"
    }
   },
   "source": [
    "# Default arguments\n",
    "```c++\n",
    "#include <iostream>\n",
    "int addition(int a, int b=0)\n",
    "{\n",
    "    int r;\n",
    "    r=a+b;\n",
    "    return r;\n",
    "}\n",
    "\n",
    "int main(void)\n",
    "{\n",
    "    int x,y,z;\n",
    "    x=5;\n",
    "    y=3;\n",
    "    z=addition(x,y);\n",
    "    std::cout<< \"The result is \" <<z<<\"\\n\";\n",
    "    z=addition(x);\n",
    "    std::cout<< \"The result is \" <<z<<\"\\n\";\n",
    "    return 0;\n",
    "}\n",
    "```"
   ]
  },
  {
   "cell_type": "markdown",
   "metadata": {
    "slideshow": {
     "slide_type": "slide"
    }
   },
   "source": [
    "## Recursive functions (Factorial Function)\n",
    "\n",
    "```c++\n",
    "#include <iostream>\n",
    "long factorial(long n)\n",
    "{\n",
    "    if (a>1)\n",
    "        return (a*factorial(a-1));\n",
    "    else\n",
    "        return 1;\n",
    "}\n",
    "\n",
    "int main(void)\n",
    "{\n",
    "    long number=9;\n",
    "    z=addition(x,y);\n",
    "    std::cout<< number<<\"! = \" <<factorial(number)<<\"\\n\";\n",
    "    return 0;\n",
    "}\n",
    "```"
   ]
  },
  {
   "cell_type": "markdown",
   "metadata": {
    "slideshow": {
     "slide_type": "slide"
    }
   },
   "source": [
    "# Exercise 3\n",
    "Implement a function that computes the Fibonacci numbers (with a for and with a recursive function)"
   ]
  },
  {
   "cell_type": "markdown",
   "metadata": {
    "slideshow": {
     "slide_type": "slide"
    }
   },
   "source": [
    "## Overloaded functions\n",
    "```c++\n",
    "#include <iostream>\n",
    "int operate(int a,int b)\n",
    "{\n",
    "   return (a*b);\n",
    "}\n",
    "double operate(double a, double b)\n",
    "{\n",
    "    return (a/b)\n",
    "}\n",
    "\n",
    "int main(void)\n",
    "{\n",
    "    int x=5,y=2;\n",
    "    double n=5.0,m=2.0\n",
    "    std::cout<< operate(x,y)<<\"\\n\";\n",
    "    std::cout<< operate(n,m)<<\"\\n\";\n",
    "    return 0;\n",
    "}\n",
    "```"
   ]
  },
  {
   "cell_type": "markdown",
   "metadata": {
    "slideshow": {
     "slide_type": "slide"
    }
   },
   "source": [
    "## Exercise 4\n",
    "* Write a program that returns the maximum for int numbers, call it getMaxInt.\n",
    "* add another function that returns the max of 2 doubles and call it getMaxDouble.\n",
    "* Change the name of both functions to getMax and compile it again.\n",
    "\n",
    "What would be the difference?"
   ]
  },
  {
   "cell_type": "markdown",
   "metadata": {
    "slideshow": {
     "slide_type": "slide"
    }
   },
   "source": [
    "# Problem of compiling\n",
    "![imagen](https://raw.githubusercontent.com/JoseMontanaC/Laboratorio-Metodos-Computacionales/master/results_2.PNG)"
   ]
  },
  {
   "cell_type": "markdown",
   "metadata": {
    "slideshow": {
     "slide_type": "slide"
    }
   },
   "source": [
    "## Preprocessing\n",
    "```c++\n",
    "// my_program.cpp\n",
    "#include <iostream>\n",
    "int main(void)\n",
    "{\n",
    "    return 0;\n",
    "}\n",
    "```\n",
    "Compile with the flag -E\n",
    "```bash\n",
    "g++ -E my_program.cpp\n",
    "```"
   ]
  },
  {
   "cell_type": "markdown",
   "metadata": {
    "slideshow": {
     "slide_type": "slide"
    }
   },
   "source": [
    "```c++\n",
    "// my_program.cpp\n",
    "#include <iostream>\n",
    "#define VAR 4;\n",
    "int main(void)\n",
    "{\n",
    "    std::cout<<VAR<<std::endl;\n",
    "    return 0;\n",
    "}\n",
    "```\n",
    "Compile with the flag -E and see what it outputs\n",
    "```bash\n",
    "g++ -E my_program.cpp\n",
    "```"
   ]
  },
  {
   "cell_type": "markdown",
   "metadata": {
    "slideshow": {
     "slide_type": "slide"
    }
   },
   "source": [
    "```c++\n",
    "// my_program.cpp\n",
    "#include <iostream>\n",
    "const int VAR 4;\n",
    "int main(void)\n",
    "{\n",
    "    std::cout<<VAR<<std::endl;\n",
    "    return 0;\n",
    "}\n",
    "```\n",
    "This way is safer since we established the kind of variable\n",
    "```bash\n",
    "g++ -E my_program.cpp\n",
    "```"
   ]
  },
  {
   "cell_type": "markdown",
   "metadata": {
    "slideshow": {
     "slide_type": "slide"
    }
   },
   "source": [
    "```c++\n",
    "// my_program.cpp\n",
    "#include <iostream>\n",
    "#include <cmath>\n",
    "const int VAR 4;\n",
    "int main(void)\n",
    "{\n",
    "    std::cout<<std::sin(VAR)<<std::endl;\n",
    "    return 0;\n",
    "}\n",
    "```\n",
    "Compile with the flag -E and see what it changes\n",
    "```bash\n",
    "g++ -E my_program.cpp\n",
    "```"
   ]
  },
  {
   "cell_type": "markdown",
   "metadata": {
    "slideshow": {
     "slide_type": "slide"
    }
   },
   "source": [
    "we can also outputs the value of $\\pi$. (you can check in your console the manual of math, man math)\n",
    "```c++\n",
    "// my_program.cpp\n",
    "#include <iostream>\n",
    "#include <cmath>\n",
    "const int VAR 4;\n",
    "int main(void)\n",
    "{\n",
    "    std::cout<<std::sin(VAR)<<std::endl;\n",
    "    std::cout<<M_PI<<std::endl;\n",
    "    std::cout<<std::cout(M_PI)<<std::endl;\n",
    "    return 0;\n",
    "}\n",
    "```\n",
    "compile this code and see what happens"
   ]
  },
  {
   "cell_type": "markdown",
   "metadata": {
    "slideshow": {
     "slide_type": "slide"
    }
   },
   "source": [
    "If we want to set the output precision and the way it outputs we can use\n",
    "\n",
    "```c++\n",
    "// my_program.cpp\n",
    "#include <iostream>\n",
    "#include <cmath>\n",
    "const int VAR 4;\n",
    "int main(void)\n",
    "{\n",
    "    std::cout.precision(16);\n",
    "    std::cout.setf(std::ios::scientific);\n",
    "    std::cout<<std::sin(VAR)<<std::endl;\n",
    "    std::cout<<M_PI<<std::endl;\n",
    "    std::cout<<std::cout(M_PI)<<std::endl;\n",
    "    return 0;\n",
    "}\n",
    "```\n",
    "now compile and run it, can you see the difference?"
   ]
  },
  {
   "cell_type": "markdown",
   "metadata": {
    "slideshow": {
     "slide_type": "slide"
    }
   },
   "source": [
    "# Dynamic Memory (Stack and Heap)\n",
    "The conventional way to ask for memory in C/C++ is by asking a fixed quantity of memory. but sometimes wee would like to change the size of that array or simply make a bigger array and this is not possible if we use only the stack, we would need to learn how to use the Heap [check the next example](http://pythontutor.com/cpp.html#code=int%20main%28void%29%0A%7B%0A%0A%20%20const%20int%20N%20%3D%2010%3B%0A%20%20double%20*a%20%3Dnullptr%3B%0A%20%20a%20%3D%20new%20double%20%5BN%5D%3B%0A%20%20for%28int%20i%20%3D%200%3B%20i%3CN%3Bi%2B%2B%29%0A%20%20%7B%0A%20%20%20%20a%5Bi%5D%3Di%3B%0A%20%20%7D%0A%20%20double%20b%5BN%5D%3D%7B0%7D%3B%0A%20%20for%28int%20i%20%3D%200%3B%20i%3CN%3Bi%2B%2B%29%0A%20%20%7B%0A%20%20%20%20b%5Bi%5D%3Di%3B%0A%20%20%7D%0A%20%20delete%20%5B%5D%20a%3B%0A%20%20return%200%3B%0A%7D&curInstr=48&mode=display&origin=opt-frontend.js&py=cpp&rawInputLstJSON=%5B%5D)."
   ]
  },
  {
   "cell_type": "markdown",
   "metadata": {
    "slideshow": {
     "slide_type": "slide"
    }
   },
   "source": [
    "# Example\n",
    "```c++\n",
    "#include <iostream>\n",
    "#include <cmath>\n",
    "int main(void)\n",
    "{\n",
    "    int N=1000;\n",
    "    double array[N];\n",
    "    for(int i =0;i<N;i++)\n",
    "    {\n",
    "        array[i]=i;\n",
    "    }\n",
    "    return 0;\n",
    "}\n",
    "```"
   ]
  },
  {
   "cell_type": "markdown",
   "metadata": {
    "slideshow": {
     "slide_type": "slide"
    }
   },
   "source": [
    "# Exercise\n",
    "Compile the following code, is it correct?\n",
    "```c++\n",
    "#include <iostream>\n",
    "#include <cmath>\n",
    "int main(int argc, char **argv)\n",
    "{\n",
    "    int N=atoi(argv[1]); //casting to int\n",
    "    double array[N];\n",
    "    for(int i =0;i<=N;i++)\n",
    "    {\n",
    "        array[i]=i;\n",
    "    }\n",
    "    return 0;\n",
    "}\n",
    "```\n",
    "Remember that this will have to be ran with an extra argument.\n",
    "* remember to fix the bug that this code has\n",
    "* Now compile using the flag --fsanitizer==adress, \n",
    "What changes now when we run again the code?\n",
    "test with large N (something like 10 million or more, until you get an error), what is the error you get?, what does it mean?\n",
    "What is the flag --fsanitizer==adress for?"
   ]
  },
  {
   "cell_type": "markdown",
   "metadata": {
    "slideshow": {
     "slide_type": "slide"
    }
   },
   "source": [
    "# Exercise\n",
    "Now do the same as before but this time using the Heap instead of the Stack, and try with sizes where you were getting an error by using normal arrays.\n",
    "what can you conclude from this?"
   ]
  },
  {
   "cell_type": "code",
   "execution_count": null,
   "metadata": {},
   "outputs": [],
   "source": []
  }
 ],
 "metadata": {
  "celltoolbar": "Slideshow",
  "kernelspec": {
   "display_name": "Python 3",
   "language": "python",
   "name": "python3"
  },
  "language_info": {
   "codemirror_mode": {
    "name": "ipython",
    "version": 3
   },
   "file_extension": ".py",
   "mimetype": "text/x-python",
   "name": "python",
   "nbconvert_exporter": "python",
   "pygments_lexer": "ipython3",
   "version": "3.7.1"
  },
  "nbTranslate": {
   "displayLangs": [
    "*"
   ],
   "hotkey": "alt-t",
   "langInMainMenu": true,
   "sourceLang": "en",
   "targetLang": "fr",
   "useGoogleTranslate": true
  },
  "toc": {
   "base_numbering": 1,
   "nav_menu": {},
   "number_sections": true,
   "sideBar": true,
   "skip_h1_title": false,
   "title_cell": "Table of Contents",
   "title_sidebar": "Contents",
   "toc_cell": false,
   "toc_position": {},
   "toc_section_display": true,
   "toc_window_display": false
  },
  "varInspector": {
   "cols": {
    "lenName": 16,
    "lenType": 16,
    "lenVar": 40
   },
   "kernels_config": {
    "python": {
     "delete_cmd_postfix": "",
     "delete_cmd_prefix": "del ",
     "library": "var_list.py",
     "varRefreshCmd": "print(var_dic_list())"
    },
    "r": {
     "delete_cmd_postfix": ") ",
     "delete_cmd_prefix": "rm(",
     "library": "var_list.r",
     "varRefreshCmd": "cat(var_dic_list()) "
    }
   },
   "types_to_exclude": [
    "module",
    "function",
    "builtin_function_or_method",
    "instance",
    "_Feature"
   ],
   "window_display": false
  }
 },
 "nbformat": 4,
 "nbformat_minor": 2
}
