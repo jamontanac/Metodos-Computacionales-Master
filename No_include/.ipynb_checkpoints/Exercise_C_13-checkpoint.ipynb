{
 "cells": [
  {
   "cell_type": "markdown",
   "metadata": {},
   "source": [
    "# Exercise\n",
    "\n",
    "* Write a program that computes the product of two matrices\n",
    "* now compute the product of two [Cauchy matrices](https://en.wikipedia.org/wiki/Cauchy_matrix)\n",
    "* set the precision at 16 decimals and scientific format output.\n",
    "* test your code of matrix multiplication with the next matrix (implement a code to fill this matrix up):\n",
    "\n",
    "Perhaps some of the most striking examples of nilpotent matrices are\n",
    "${\\displaystyle n\\times n}$ square matrices of the form:\n",
    "\n",
    "\n",
    "$$\n",
    "{\\displaystyle {\\begin{bmatrix}2&2&2&\\cdots &1-n\\\\n+2&1&1&\\cdots &-n\\\\1&n+2&1&\\cdots &-n\\\\1&1&n+2&\\cdots &-n\\\\\\vdots &\\vdots &\\vdots &\\ddots &\\vdots \\end{bmatrix}}}\n",
    "$$\n",
    "$$\n",
    "{\\displaystyle {\\begin{bmatrix}2&-1\\\\4&-2\\end{bmatrix}}\\qquad {\\begin{bmatrix}2&2&-2\\\\5&1&-3\\\\1&5&-3\\end{bmatrix}}\\qquad {\\begin{bmatrix}2&2&2&-3\\\\6&1&1&-4\\\\1&6&1&-4\\\\1&1&6&-4\\end{bmatrix}}\\qquad {\\begin{bmatrix}2&2&2&2&-4\\\\7&1&1&1&-5\\\\1&7&1&1&-5\\\\1&1&7&1&-5\\\\1&1&1&7&-5\\end{bmatrix}}\\qquad \\ldots }\n",
    "$$\n",
    "\n",
    "Test those matrices are [Nilpotent](https://en.m.wikipedia.org/wiki/Nilpotent_matrix)\n",
    "* Do this for an arbitrary size $N$ that you can put as an argument when running the code"
   ]
  }
 ],
 "metadata": {
  "kernelspec": {
   "display_name": "Python 3",
   "language": "python",
   "name": "python3"
  },
  "language_info": {
   "codemirror_mode": {
    "name": "ipython",
    "version": 3
   },
   "file_extension": ".py",
   "mimetype": "text/x-python",
   "name": "python",
   "nbconvert_exporter": "python",
   "pygments_lexer": "ipython3",
   "version": "3.7.1"
  },
  "nbTranslate": {
   "displayLangs": [
    "*"
   ],
   "hotkey": "alt-t",
   "langInMainMenu": true,
   "sourceLang": "en",
   "targetLang": "fr",
   "useGoogleTranslate": true
  },
  "toc": {
   "base_numbering": 1,
   "nav_menu": {},
   "number_sections": true,
   "sideBar": true,
   "skip_h1_title": false,
   "title_cell": "Table of Contents",
   "title_sidebar": "Contents",
   "toc_cell": false,
   "toc_position": {},
   "toc_section_display": true,
   "toc_window_display": false
  },
  "varInspector": {
   "cols": {
    "lenName": 16,
    "lenType": 16,
    "lenVar": 40
   },
   "kernels_config": {
    "python": {
     "delete_cmd_postfix": "",
     "delete_cmd_prefix": "del ",
     "library": "var_list.py",
     "varRefreshCmd": "print(var_dic_list())"
    },
    "r": {
     "delete_cmd_postfix": ") ",
     "delete_cmd_prefix": "rm(",
     "library": "var_list.r",
     "varRefreshCmd": "cat(var_dic_list()) "
    }
   },
   "types_to_exclude": [
    "module",
    "function",
    "builtin_function_or_method",
    "instance",
    "_Feature"
   ],
   "window_display": false
  }
 },
 "nbformat": 4,
 "nbformat_minor": 2
}
