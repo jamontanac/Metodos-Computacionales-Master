{
 "cells": [
  {
   "cell_type": "markdown",
   "metadata": {},
   "source": [
    "# Derivation using Complex calculus\n",
    "\n",
    "Since the machines are good summing things but not subtracting little quantities, computing derivatives (which are supposed to be infinitesimally small quantities), one has to figure out how to compute these differences. One of the numerical alternatives, not quite common, is to use complex calculus. From complex calculus we know that a function $f$ such that is analytic in all the complex plane, the first derivative can be approximated by the imagynari part of the function evaluated in a little step $h$ over the imaginary axis.\n",
    "$$f'(x) \\approx \\frac{\\mathfrak{Im}(f(x+ih))}{h}$$\n",
    "\n",
    "## 1 Exercise\n",
    "* Make use of this approximation and compute the derivative of the next function ($\\sin^{5}(x)$) in $x=\\pi/2$ for a small $h$. * See the behaviour of its value with different $h$ (make a plot)\n",
    "* Compute analytically the derivative fo this function at $\\pi/2$.\n",
    "* Compute the relative error ((numeric-real)/real) for different $h$.\n",
    "* What is the best $h$ for this derivative?\n",
    "\n",
    "the result should look like this"
   ]
  },
  {
   "cell_type": "code",
   "execution_count": 1,
   "metadata": {
    "ExecuteTime": {
     "end_time": "2019-11-12T16:47:02.420524Z",
     "start_time": "2019-11-12T16:47:00.271474Z"
    }
   },
   "outputs": [
    {
     "data": {
      "text/html": [
       "\n",
       "<style>\n",
       ".output {\n",
       "    display: flex;\n",
       "    align-items: center;\n",
       "    text-align: center;\n",
       "}\n",
       "</style>\n"
      ],
      "text/plain": [
       "<IPython.core.display.HTML object>"
      ]
     },
     "metadata": {},
     "output_type": "display_data"
    }
   ],
   "source": [
    "# nbi:hide_in\n",
    "from IPython.display import display, HTML\n",
    "\n",
    "import numpy as np\n",
    "import matplotlib.pylab as plt\n",
    "display(HTML(\"\"\"\n",
    "<style>\n",
    ".output {\n",
    "    display: flex;\n",
    "    align-items: center;\n",
    "    text-align: center;\n",
    "}\n",
    "</style>\n",
    "\"\"\"))"
   ]
  },
  {
   "cell_type": "code",
   "execution_count": 3,
   "metadata": {
    "ExecuteTime": {
     "end_time": "2019-11-12T16:47:10.180351Z",
     "start_time": "2019-11-12T16:47:09.539833Z"
    },
    "run_control": {
     "marked": true
    }
   },
   "outputs": [
    {
     "data": {
      "image/png": "[encoded data removed]",
      "text/plain": [
       "<Figure size 432x288 with 1 Axes>"
      ]
     },
     "metadata": {
      "needs_background": "light"
     },
     "output_type": "display_data"
    },
    {
     "data": {
      "image/png": "[encoded data removed]",
      "text/plain": [
       "<Figure size 432x288 with 1 Axes>"
      ]
     },
     "metadata": {
      "needs_background": "light"
     },
     "output_type": "display_data"
    }
   ],
   "source": [
    "\n",
    "def Exact(x):\n",
    "    return 5*(np.sin(x)**4)*np.cos(x)\n",
    "\n",
    "def dF_complex(x,h):\n",
    "    '''Complex step aproximation'''\n",
    "    #x =  np.array(x, dtype='cfloat')\n",
    "    return np.imag(f(x + 1j*h))/h\n",
    "def f(x):\n",
    "    return np.sin(x)**5\n",
    "\n",
    "h=np.logspace(-6,-2,100)\n",
    "fig, ax = plt.subplots()\n",
    "\n",
    "ax.plot(h,dF_complex(np.pi/2.0*np.ones(len(h)),h))\n",
    "ax.set_xlim(h.max(), h.min())\n",
    "ax.grid(True)\n",
    "plt.xscale(\"log\")\n",
    "ax.set_ylabel(r\"$\\frac{df}{dx}$\",fontsize=20)\n",
    "ax.set_xlabel(r\"$h$\")\n",
    "plt.show()\n",
    "\n",
    "error= (dF_complex(np.pi/2.0*np.ones(len(h)),h)-Exact(np.pi/2.0*np.ones(len(h))))/Exact(np.pi/2.0*np.ones(len(h)))\n",
    "fig, ax = plt.subplots()\n",
    "ax.plot(h,error)\n",
    "ax.set_xlim(h.max(), h.min())\n",
    "ax.grid(True)\n",
    "plt.xscale(\"log\")\n",
    "ax.set_xlabel(r\"$h$\")\n",
    "ax.set_ylabel(\"error\")\n",
    "plt.show()\n",
    "\n",
    "\n"
   ]
  },
  {
   "cell_type": "markdown",
   "metadata": {
    "ExecuteTime": {
     "end_time": "2019-10-07T14:34:58.354647Z",
     "start_time": "2019-10-07T14:34:58.229948Z"
    }
   },
   "source": [
    "# 2 Exercise (Regression problem)\n",
    "It is quite often to find problems that involve make a regression to prove if a model we implement can described some data we have. Here we are going to implement a particular kind of regression which is called kernel regression.\n",
    "\n",
    "For our particular case we consider the following kernel regression model:\n",
    "\n",
    "$$ f_w(x) = w\\phi(x) + w_0$$\n",
    "\n",
    "where \n",
    "\n",
    "$$ w=\\sum_{x_{i}\\in X}\\alpha_{i}\\phi(x_{i}), $$\n",
    "\n",
    "and $\\phi()$ is the feature map associated to a kernel $k(\\_,\\_)$, which means that there a function that maps our points to another space where we have the result.\n",
    "\n",
    "Also consider the following to evaluate the loss of the regression:\n",
    "\n",
    "$$E(w, x, y) = |y -  f_w(x))|.$$\n",
    "\n",
    "So we have that the function of our fit is given by\n",
    "\n",
    "$$ f_w(x) = \\sum_{x_{i}\\in X}\\alpha_{i}\\phi(x_{i}) \\phi(x) =   \\sum_{x_{i}\\in X}\\alpha_iK(x,x_i), $$\n",
    "where we used $\\phi(x_{i}) \\phi(x)=K(x,x_i)$. We can therefore define the next functions\n",
    "```python\n",
    "def predict(alpha, X, kernel, x):\n",
    "    '''\n",
    "     alpha:  vector of shape (n,) where n is the number of samples\n",
    "     X:      matrix of shape (n, 2) \n",
    "     kernel: a kernel function\n",
    "     x:      vector of shape (2,)\n",
    "    \n",
    "    returns:\n",
    "     the result of evaluating f_w(x)\n",
    "    '''\n",
    "    K=[]\n",
    "    for i in range(len(X)):\n",
    "        K.append(kernel(X[i],x))\n",
    "    K=np.array(K)\n",
    "    result = np.dot(alpha,K)\n",
    "    return result\n",
    "\n",
    "def loss(alpha, X, kernel, x, y):\n",
    "    '''\n",
    "     alpha:  vector of shape (n,) where n is the number of samples\n",
    "     X:      matrix of shape (n, 2), training input samples\n",
    "     kernel: a kernel function\n",
    "     x:      vector of shape (2,), input sample \n",
    "     y:      scalar, target output sample\n",
    "    returns:\n",
    "     the result of evaluating the loss function for a sample (x, y)\n",
    "    '''\n",
    "    #loss function for all elements \n",
    "    E=np.abs(y-predict(alpha,X,kernel,x))\n",
    "    return  E\n",
    "```\n",
    "\n",
    "Since the idea here is to find the value of the parameter $w$ which is full related with the $\\alpha_i$ values (A vector), we need to find the best value of $\\alpha$, to be more precise we need the one that minimize the loss function. So the problem of regression turns out to be a problem of optimization. In order to achieve this do the following steps:\n",
    "1. Write a function that compute the derivative of the loss function with respect of the alphas:\n",
    "$$ \\frac{\\partial E(w, x, y)}{\\partial \\alpha}= \\dots $$\n",
    "```python\n",
    "def num_de_dalpha(alpha, X, kernel, x, y, epsilon):\n",
    "    return 0 # return the vector of the derivatives\n",
    "    # Hint use the central difference to compute the derivative\n",
    "```\n",
    "\n",
    "To test if you are are doing it right run the following cell to test your code, the function test should return True"
   ]
  },
  {
   "cell_type": "code",
   "execution_count": 4,
   "metadata": {
    "ExecuteTime": {
     "end_time": "2019-11-12T16:47:16.734340Z",
     "start_time": "2019-11-12T16:47:16.728326Z"
    }
   },
   "outputs": [],
   "source": [
    "# Solution\n",
    "def num_de_dalpha(alpha, X, kernel, x, y, epsilon):\n",
    "    deltas = np.identity(len(alpha)) * epsilon\n",
    "    de = np.zeros(len(alpha))\n",
    "    for i in range(len(alpha)):\n",
    "        de[i] = (loss(alpha + deltas[i,:], X, kernel, x, y) - \n",
    "                 loss(alpha - deltas[i,:], X, kernel, x, y)) / (2 * epsilon)\n",
    "    return de"
   ]
  },
  {
   "cell_type": "code",
   "execution_count": 5,
   "metadata": {
    "ExecuteTime": {
     "end_time": "2019-11-12T16:47:19.896117Z",
     "start_time": "2019-11-12T16:47:19.883120Z"
    }
   },
   "outputs": [],
   "source": [
    "def k1(x, y):\n",
    "    return np.dot(x, y)\n",
    "\n",
    "def k2(x, y):\n",
    "    return (np.dot(x, y) + 1) ** 2\n",
    "\n",
    "def de_dalpha(alpha, X, kernel, x, y):\n",
    "    K=[]\n",
    "    for i in range(len(X)):\n",
    "        K.append(kernel(X[i],x))\n",
    "    K=np.array(K)\n",
    "    de = -np.sign(y-predict(alpha, X, kernel, x))*K\n",
    "    return de\n",
    "\n",
    "def test_de_dalpha(kernel):\n",
    "    num_tests = 100\n",
    "    epsilon = 0.0001\n",
    "    X = [[-2, -1],\n",
    "         [-1, 3],\n",
    "         [2.5, -1.5],\n",
    "         [4, 2]]\n",
    "    for i in range(num_tests):\n",
    "        talpha = np.random.randn(len(X))\n",
    "        tx = np.random.randn(2)\n",
    "        ty = np.random.randn(1)\n",
    "        if np.linalg.norm(de_dalpha(talpha, X, kernel, tx, ty) - \n",
    "                          num_de_dalpha(talpha, X, kernel, tx, ty, epsilon)) > epsilon:\n",
    "            return False\n",
    "    return True\n",
    "\n",
    "def test2():\n",
    "    return test_de_dalpha(k1) and test_de_dalpha(k2)"
   ]
  },
  {
   "cell_type": "markdown",
   "metadata": {},
   "source": [
    "Now the idea is to implement something called gradient descent in order to fit our data. to do this we may fund the following code useful\n",
    "```python\n",
    "def train(X, Y, epochs, eta, alpha_ini, kernel):\n",
    "    '''\n",
    "     X:      matrix of shape (n, 2), training input samples\n",
    "     Y:      vector of shape (n, ), training output samples\n",
    "     epochs: number of epochs\n",
    "     eta:    learning rate\n",
    "     alpha_ini:  vector of shape (n,), initial values of alpha\n",
    "     kernel: a kernel function\n",
    "    returns:\n",
    "     a tuple (alpha, losses) where:\n",
    "       alpha: vector of shape (n, ) with resulting alpha values\n",
    "       losses: a vector of shape (epochs, ) with the loss values for each epoch\n",
    "    '''\n",
    "    losses = []\n",
    "    alpha = alpha_ini\n",
    "    for epoch in range(epochs):\n",
    "        loss_tmp=0\n",
    "        for j in range(len(X)):\n",
    "            #forward propagation\n",
    "            prediction=predict(alpha,X,kernel,X[j]) # Here is the prediction function we show at the begining\n",
    "            #Back propagation\n",
    "            alpha-=   # Here we compute the derivatives times the learning rate and we subtract the value of alpha times its derivative\n",
    "        for j in range(len(x)):\n",
    "            loss_tmp+=loss(alpha, X, kernel, X[j], Y[j])\n",
    "        losses.append(loss_tmp)   \n",
    "    return alpha, losses\n",
    "```\n",
    "* Your task here is to complete the last code in order to fit our model to the given data. the data we are going to use is given by\n",
    "\n",
    "```python\n",
    "X = [[-2, -1],\n",
    "     [-1, 3],\n",
    "     [2.5, -1.5],\n",
    "     [4, 2]]\n",
    "Y = [1, 1, 1, -1]\n",
    "```\n",
    "* plot the loss as a function of the iteration the number of epochs and with the alpha's use the function predict to see the result of our model once is fitted\n",
    "```python\n",
    "for x in X:\n",
    "    print(predict(alpha, X, k2, x))\n",
    "```\n",
    "Do we get a result close to what we expected?"
   ]
  },
  {
   "cell_type": "code",
   "execution_count": 6,
   "metadata": {
    "ExecuteTime": {
     "end_time": "2019-11-12T16:47:31.159127Z",
     "start_time": "2019-11-12T16:47:29.467608Z"
    }
   },
   "outputs": [
    {
     "data": {
      "image/png": "[encoded data removed]",
      "text/plain": [
       "<Figure size 432x288 with 1 Axes>"
      ]
     },
     "metadata": {
      "needs_background": "light"
     },
     "output_type": "display_data"
    },
    {
     "name": "stdout",
     "output_type": "stream",
     "text": [
      " the optimum alphas are :\n",
      " [ 0.05984435  0.00456804  0.01606047 -0.01600846]\n",
      "the predictions are\n",
      "Predicted= 0.9580891451394367 Real value = 1\n",
      "Predicted= 0.9868332911454958 Real value = 1\n",
      "Predicted= 0.963392181451292 Real value = 1\n",
      "Predicted= -1.1433572129759426 Real value = -1\n"
     ]
    }
   ],
   "source": [
    "\n",
    "\n",
    "def predict(alpha, X, kernel, x):\n",
    "    '''\n",
    "     alpha:  vector of shape (n,) where n is the number of samples\n",
    "     X:      matrix of shape (n, 2) \n",
    "     kernel: a kernel function\n",
    "     x:      vector of shape (2,)\n",
    "    \n",
    "    returns:\n",
    "     the result of evaluating f_w(x)\n",
    "    '''\n",
    "    K=[]\n",
    "    for i in range(len(X)):\n",
    "        K.append(kernel(X[i],x))\n",
    "    K=np.array(K)\n",
    "    result = np.dot(alpha,K)\n",
    "    # your code here\n",
    "    return result\n",
    "\n",
    "def loss(alpha, X, kernel, x, y):\n",
    "    '''\n",
    "     alpha:  vector of shape (n,) where n is the number of samples\n",
    "     X:      matrix of shape (n, 2), training input samples\n",
    "     kernel: a kernel function\n",
    "     x:      vector of shape (2,), input sample \n",
    "     y:      scalar, target output sample\n",
    "    returns:\n",
    "     the result of evaluating the loss function for a sample (x, y)\n",
    "    '''\n",
    "    #loss function for all elements \n",
    "    # your code here\n",
    "    E=np.abs(y-predict(alpha,X,kernel,x))\n",
    "    return  E\n",
    "\n",
    "def num_de_dalpha(alpha, X, kernel, x, y, epsilon):\n",
    "    deltas = np.identity(len(alpha)) * epsilon\n",
    "    de = np.zeros(len(alpha))\n",
    "    for i in range(len(alpha)):\n",
    "        de[i] = (loss(alpha + deltas[i,:], X, kernel, x, y) - \n",
    "                 loss(alpha - deltas[i,:], X, kernel, x, y)) / (2 * epsilon)\n",
    "    return de\n",
    "\n",
    "def train(X, Y, epochs, eta, alpha_ini, kernel):\n",
    "    '''\n",
    "     X:      matrix of shape (n, 2), training input samples\n",
    "     Y:      vector of shape (n, ), training output samples\n",
    "     epochs: number of epochs\n",
    "     eta:    learning rate\n",
    "     alpha_ini:  vector of shape (n,), initial values of alpha\n",
    "     kernel: a kernel function\n",
    "    returns:\n",
    "     a tuple (alpha, losses) where:\n",
    "       alpha: vector of shape (n, ) with resulting alpha values\n",
    "       losses: a vector of shape (epochs, ) with the loss values for each epoch\n",
    "    '''\n",
    "    losses = []\n",
    "    alpha = alpha_ini\n",
    "    for epoch in range(epochs):\n",
    "        loss_tmp=0\n",
    "        for j in range(len(X)):\n",
    "            #forward propagation\n",
    "            prediction=predict(alpha,X,kernel,X[j])\n",
    "            \n",
    "            #Back propagation\n",
    "            alpha-=eta*num_de_dalpha(alpha, X, kernel, X[j], Y[j],0.0001)\n",
    "        for j in range(len(X)):\n",
    "            loss_tmp+=loss(alpha, X, kernel, X[j], Y[j])\n",
    "        losses.append(loss_tmp)   \n",
    "            \n",
    "        \n",
    "            \n",
    "        \n",
    "    # your code here\n",
    "    return alpha, losses\n",
    "\n",
    "def k2(x, y):\n",
    "    return (np.dot(x, y) + 1) ** 2\n",
    "\n",
    "\n",
    "X = [[-2, -1],\n",
    "     [-1, 3],\n",
    "     [2.5, -1.5],\n",
    "     [4, 2]]\n",
    "Y = [1, 1, 1, -1]\n",
    "alpha, losses = train(X, Y, 2000, 0.000001, [0.1, 0.0, -0.1, 0.0], k2)\n",
    "plt.plot(losses)\n",
    "plt.show()\n",
    "print(\" the optimum alphas are :\\n\",alpha)\n",
    "print(\"the predictions are\")\n",
    "aux=0\n",
    "for x in X:\n",
    "    print(\"Predicted=\",predict(alpha, X, k2, x), \"Real value =\", Y[aux])\n",
    "    aux+=1"
   ]
  }
 ],
 "metadata": {
  "kernelspec": {
   "display_name": "Python 3",
   "language": "python",
   "name": "python3"
  },
  "language_info": {
   "codemirror_mode": {
    "name": "ipython",
    "version": 3
   },
   "file_extension": ".py",
   "mimetype": "text/x-python",
   "name": "python",
   "nbconvert_exporter": "python",
   "pygments_lexer": "ipython3",
   "version": "3.7.1"
  },
  "nbTranslate": {
   "displayLangs": [
    "*"
   ],
   "hotkey": "alt-t",
   "langInMainMenu": true,
   "sourceLang": "en",
   "targetLang": "fr",
   "useGoogleTranslate": true
  },
  "toc": {
   "base_numbering": 1,
   "nav_menu": {},
   "number_sections": true,
   "sideBar": true,
   "skip_h1_title": false,
   "title_cell": "Table of Contents",
   "title_sidebar": "Contents",
   "toc_cell": false,
   "toc_position": {},
   "toc_section_display": true,
   "toc_window_display": false
  },
  "varInspector": {
   "cols": {
    "lenName": 16,
    "lenType": 16,
    "lenVar": 40
   },
   "kernels_config": {
    "python": {
     "delete_cmd_postfix": "",
     "delete_cmd_prefix": "del ",
     "library": "var_list.py",
     "varRefreshCmd": "print(var_dic_list())"
    },
    "r": {
     "delete_cmd_postfix": ") ",
     "delete_cmd_prefix": "rm(",
     "library": "var_list.r",
     "varRefreshCmd": "cat(var_dic_list()) "
    }
   },
   "types_to_exclude": [
    "module",
    "function",
    "builtin_function_or_method",
    "instance",
    "_Feature"
   ],
   "window_display": false
  }
 },
 "nbformat": 4,
 "nbformat_minor": 2
}
