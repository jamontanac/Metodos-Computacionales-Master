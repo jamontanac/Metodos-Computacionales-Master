{
 "cells": [
  {
   "cell_type": "code",
   "execution_count": 102,
   "metadata": {
    "ExecuteTime": {
     "end_time": "2019-09-16T17:21:34.317565Z",
     "start_time": "2019-09-16T17:21:34.312578Z"
    }
   },
   "outputs": [],
   "source": [
    "import numpy as np\n",
    "import matplotlib.pylab as plt"
   ]
  },
  {
   "cell_type": "markdown",
   "metadata": {},
   "source": [
    "# Monte Carlo Integration\n",
    "One of the most important application of Monte Carlo algorithms is the integration, this integration is quite useful since it allow us to compute hard integrals in a fast and simple way. in general Monte Carlo integration can be done via generating random numbers or using the metropolis algorithm, here we are more interested in the case of using the Metropolis algorithm to integrate. but just for matter of understanding consider the next integral.\n",
    "$$\n",
    "I=\\int_{0}^{1}\\int_{0}^{1}\\frac{\\sin(xy)}{xy}\\log(5x+3y)\n",
    "$$\n",
    "It can be computed via deterministic methods and it gives the value of $I\\approx 1.23318$, but let's consider a solution via random number generation. So a way to compute this is to generate random numbers $x,y$ in the interval $(0,1)$ independently and evaluate the function at those points, then average this result to obtain the approximation of the integral. (see the code below)"
   ]
  },
  {
   "cell_type": "code",
   "execution_count": 136,
   "metadata": {
    "ExecuteTime": {
     "end_time": "2019-09-16T18:14:49.447184Z",
     "start_time": "2019-09-16T18:14:49.209790Z"
    }
   },
   "outputs": [
    {
     "name": "stdout",
     "output_type": "stream",
     "text": [
      "1.2334000344494036\n"
     ]
    }
   ],
   "source": [
    "def f(x,y):\n",
    "    return np.log(5*x+3*y)*np.sin(x*y)/(x*y)\n",
    "N=50000\n",
    "integral=0\n",
    "for i in range(N):\n",
    "    x_i=np.random.uniform(0,1)\n",
    "    y_i=np.random.uniform(0,1)\n",
    "    integral += f(x_i,y_i)/N\n",
    "integral=integral\n",
    "print(integral)"
   ]
  },
  {
   "cell_type": "markdown",
   "metadata": {},
   "source": [
    "this does not represent much problem and it is not interesting since it is quite direct to do and implement "
   ]
  },
  {
   "cell_type": "code",
   "execution_count": 135,
   "metadata": {
    "ExecuteTime": {
     "end_time": "2019-09-16T18:14:49.185853Z",
     "start_time": "2019-09-16T18:14:39.173366Z"
    }
   },
   "outputs": [
    {
     "data": {
      "image/png": "[encoded data removed]",
      "text/plain": [
       "<Figure size 432x288 with 1 Axes>"
      ]
     },
     "metadata": {
      "needs_background": "light"
     },
     "output_type": "display_data"
    },
    {
     "name": "stdout",
     "output_type": "stream",
     "text": [
      "1.3024702096581644 0.0025056283607760043\n"
     ]
    }
   ],
   "source": [
    "def p(x):\n",
    "    return np.sin(x[0]*x[1])\n",
    "def f(x):\n",
    "    return np.log(5*x[0]+3*x[1])/(x[0]*x[1])\n",
    "N=500000\n",
    "x=np.ones(2)/2\n",
    "sigma=0.01\n",
    "integral=[f(x)]\n",
    "K=0.239812\n",
    "for i in range(N):\n",
    "    y=x+np.random.normal(0,sigma,size=2)\n",
    "    r=np.random.random()\n",
    "    alpha=min(1,p(y)/p(x))\n",
    "    if r < alpha and np.min(y)>0 and np.max(y)<1:\n",
    "        x=y\n",
    "        integral.append(K*f(x))\n",
    "        #K.append(p(x))\n",
    "    else:\n",
    "        integral.append(K*f(x))\n",
    "        #K.append(p(x))\n",
    "integral=np.array(integral)\n",
    "\n",
    "datos,bins,_=plt.hist(integral,bins=100,density=True)\n",
    "plt.show()\n",
    "print(np.mean(integral),np.std(integral)/np.sqrt(N))"
   ]
  },
  {
   "cell_type": "code",
   "execution_count": 145,
   "metadata": {
    "ExecuteTime": {
     "end_time": "2019-09-16T18:20:39.291948Z",
     "start_time": "2019-09-16T18:20:37.914268Z"
    }
   },
   "outputs": [
    {
     "data": {
      "image/png": "[encoded data removed]",
      "text/plain": [
       "<Figure size 432x288 with 1 Axes>"
      ]
     },
     "metadata": {
      "needs_background": "light"
     },
     "output_type": "display_data"
    },
    {
     "name": "stdout",
     "output_type": "stream",
     "text": [
      "1.2726202163357703 0.0028548611818853143\n"
     ]
    }
   ],
   "source": [
    "def p(x):\n",
    "    return np.sin(x[0]*x[1])*1/(x[0]*x[1])\n",
    "def f(x):\n",
    "    return np.log(5*x[0]+3*x[1])\n",
    "N=50000\n",
    "x=np.ones(2)/2\n",
    "sigma=0.01\n",
    "integral=[f(x)]\n",
    "K=[]\n",
    "for i in range(N):\n",
    "    y=x+np.random.normal(0,sigma,size=2)\n",
    "    r=np.random.random()\n",
    "    alpha=min(1,p(y)/p(x))\n",
    "    if r < alpha and np.min(y)>0 and np.max(y)<np.pi:\n",
    "        x=y\n",
    "        integral.append(f(x))\n",
    "        K.append(p(x))\n",
    "    else:\n",
    "        integral.append(f(x))\n",
    "        K.append(p(x))\n",
    "integral=np.array(integral)*np.mean(K)\n",
    "\n",
    "datos,bins,_=plt.hist(integral,bins=100,density=True)\n",
    "plt.show()\n",
    "print(np.mean(integral),np.std(integral)/np.sqrt(N))"
   ]
  },
  {
   "cell_type": "code",
   "execution_count": null,
   "metadata": {
    "ExecuteTime": {
     "end_time": "2019-09-16T17:18:02.557833Z",
     "start_time": "2019-09-16T17:18:02.549856Z"
    }
   },
   "outputs": [],
   "source": []
  },
  {
   "cell_type": "code",
   "execution_count": null,
   "metadata": {
    "ExecuteTime": {
     "end_time": "2019-09-16T17:17:24.831486Z",
     "start_time": "2019-09-16T17:17:24.827527Z"
    }
   },
   "outputs": [],
   "source": []
  },
  {
   "cell_type": "code",
   "execution_count": null,
   "metadata": {
    "ExecuteTime": {
     "end_time": "2019-09-16T17:17:25.856794Z",
     "start_time": "2019-09-16T17:17:25.445337Z"
    }
   },
   "outputs": [],
   "source": []
  },
  {
   "cell_type": "code",
   "execution_count": null,
   "metadata": {
    "ExecuteTime": {
     "end_time": "2019-09-16T17:15:11.231638Z",
     "start_time": "2019-09-16T17:15:11.178660Z"
    }
   },
   "outputs": [],
   "source": []
  },
  {
   "cell_type": "code",
   "execution_count": 112,
   "metadata": {
    "ExecuteTime": {
     "end_time": "2019-09-16T17:48:39.535839Z",
     "start_time": "2019-09-16T17:48:37.837360Z"
    }
   },
   "outputs": [
    {
     "name": "stdout",
     "output_type": "stream",
     "text": [
      "0.21567842815865282\n"
     ]
    }
   ],
   "source": [
    "def f(x,y):\n",
    "    return np.sin(x*y)*x*y\n",
    "N=500000\n",
    "integral=0\n",
    "for i in range(N):\n",
    "    x_i=np.random.uniform(-np.pi,np.pi)\n",
    "    y_i=np.random.uniform(-np.pi,np.pi)\n",
    "    integral += f(x_i,y_i)/N\n",
    "integral=integral\n",
    "print(integral)"
   ]
  },
  {
   "cell_type": "code",
   "execution_count": null,
   "metadata": {},
   "outputs": [],
   "source": []
  }
 ],
 "metadata": {
  "kernelspec": {
   "display_name": "Python 3",
   "language": "python",
   "name": "python3"
  },
  "language_info": {
   "codemirror_mode": {
    "name": "ipython",
    "version": 3
   },
   "file_extension": ".py",
   "mimetype": "text/x-python",
   "name": "python",
   "nbconvert_exporter": "python",
   "pygments_lexer": "ipython3",
   "version": "3.7.1"
  },
  "nbTranslate": {
   "displayLangs": [
    "*"
   ],
   "hotkey": "alt-t",
   "langInMainMenu": true,
   "sourceLang": "en",
   "targetLang": "fr",
   "useGoogleTranslate": true
  },
  "toc": {
   "base_numbering": 1,
   "nav_menu": {},
   "number_sections": true,
   "sideBar": true,
   "skip_h1_title": false,
   "title_cell": "Table of Contents",
   "title_sidebar": "Contents",
   "toc_cell": false,
   "toc_position": {},
   "toc_section_display": true,
   "toc_window_display": false
  },
  "varInspector": {
   "cols": {
    "lenName": 16,
    "lenType": 16,
    "lenVar": 40
   },
   "kernels_config": {
    "python": {
     "delete_cmd_postfix": "",
     "delete_cmd_prefix": "del ",
     "library": "var_list.py",
     "varRefreshCmd": "print(var_dic_list())"
    },
    "r": {
     "delete_cmd_postfix": ") ",
     "delete_cmd_prefix": "rm(",
     "library": "var_list.r",
     "varRefreshCmd": "cat(var_dic_list()) "
    }
   },
   "types_to_exclude": [
    "module",
    "function",
    "builtin_function_or_method",
    "instance",
    "_Feature"
   ],
   "window_display": false
  }
 },
 "nbformat": 4,
 "nbformat_minor": 2
}
