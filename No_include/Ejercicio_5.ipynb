{
 "cells": [
  {
   "cell_type": "markdown",
   "metadata": {},
   "source": [
    "# Random Numbers\n",
    "\n",
    "In python there is a bunch of different functions to create random numbers with different distributions. Some of them are:\n",
    "\n",
    "1. `seed(seed)`: Starts the seed of a generator number , this is a number of type ``int``. This is used to change the sequence of generated random numbers.\n",
    "2. `rand(d0,d1,...,dn)`: Returns a multidimensional array of numbers with uniform distribution.\n",
    "3. `randn(d0,d1,...,dn)`: It works the same as before but this time gives a Gaussian standard distribution ($\\mu=0,\\sigma=1$).\n",
    "4. `binomial(M,p,size)`: It returns a sample with binomial distribution with parameters $M$ (trials) y $p$ (probability).\n",
    "5. `poisson(a,size)`: Returns a sample of a Poisson distribution with parameter $a$.\n",
    "6. `choice([-1,1],size)`: Sample form a given array, for this case it will take randomly -1 and 1, it also receives a parameter to specify the probability of choosing each element.\n",
    "7. `normal(ave,std,size)`: Generates a random Gaussian distribution with parameters  $\\mu=$ave y $\\sigma=$std.\n",
    "8. `uniform([low,high,size])`: Generate samples from an uniform distribution in the interval (low,hihg).\n",
    "\n",
    "\n",
    "For more details check\n",
    "\n",
    "https://docs.scipy.org/doc/numpy-1.14.1/reference/routines.random.html"
   ]
  },
  {
   "cell_type": "markdown",
   "metadata": {},
   "source": [
    "# Exercise 1 (Implementing your own binomial distribution)\n",
    "Using the function ``rand`` implement your own random generator of binomial distribution with ($n=1$).\n",
    "to check it is working properly use the function of numpy ``Binomial`` and check the histograms and see both are statistically identical.\n",
    "create a function that receives the probability as a parameter and returns the array of samples that follow a binomial distribution.\n",
    "\n",
    "__Nota__: Take into account that a binomial distribution is a discrete distribution, and the uniform distribution is continuous. So you may think in a way to make a continuous distribution discrete."
   ]
  },
  {
   "cell_type": "markdown",
   "metadata": {},
   "source": [
    "# Exercise 2 (Kinetic gas theory)\n",
    "One of the most important distribution on molecular dynamics was proposed by Maxwell and then by Boltzmann back in 1860\n",
    "and 1872 (1877) respectively.\n",
    "\n",
    "Based on the kinetic theory to describe ideal gases, the velocities on each direction distribute as a Gaussian( on each direction), but the speed of the system ($\\sqrt{v_{x}^2+v_{y}^2+v_{z}^2}$ follows another kind of distribution. From Statistical mechanics it is known that distribution of the speed is given by (in 3D)\n",
    "$$ \n",
    "f(v)=\\left({\\frac {2}{\\pi }}\\right)^{1/2}\\left({\\frac {m}{kT}}\\right)^{3/2}v^{2}\\exp \\left[-{\\frac {mv^{2}}{2kT}}\\right].\n",
    "$$\n",
    "and for a 2-dimensional the distribution is given by \n",
    "$$\n",
    "{\\displaystyle f(v)={\\frac {mv}{kT}}\\exp {\\bigg (}-{\\frac {mv^{2}}{2kT}}{\\bigg )}}\n",
    "$$\n",
    "your exercise is going to be the following.\n",
    "1. First generate the velocities for each direction (x,y,z) with a normal distribution independently ( generate at least 100000 to have a good statistic) plot the histogram of $\\sqrt{v_x^2+v_y^2}$ and $\\sqrt{v_x^2+v_y^2,v_z^2}$.\n",
    "2. In each case fit to the respective distribution and see how well it fits (maybe a R^2 is good to check this).\n",
    "3. see the result of the parameters returned by the fit, now take the argmax of the distribution and compare with the fit you just did. According to the theory this value must be $v_p = \\sqrt { \\frac{2kT}{m}}$. Is is possible to talk about the temperature at which you generated the data?\n",
    "4. Now compute the average speed (np.mean()) and compare with the theoretical value $ \\langle v \\rangle =\\int _{0}^{\\infty }v\\,f(v)dv={\\frac {2}{\\sqrt {\\pi }}}v_{p}$"
   ]
  },
  {
   "cell_type": "markdown",
   "metadata": {},
   "source": [
    "# Exercise 3 (Poisson limit)\n",
    "Something interesting that emerges form the concentration of the measure (measure theory) is the fact that with some distributions we can get some others distributions, when it happens we say that a random variable converges in distribution to another variable. this is the case of Binomial and the Poissonian distributions. The [Poisson limit theorem](https://en.wikipedia.org/wiki/Poisson_limit_theorem) establish that if $n \\rightarrow \\infty$ and $p\\rightarrow 0$, keeping the product $np$ constant, we have that the binomial distribution of parameters $n,p$ $\\mathcal{B}(n,p)$, approaches a Poisson distribution of parameter $\\lambda=np$. We can write this in a single mathematical expression as:\n",
    "\n",
    "$$\\lim_{(n,p) \\to (\\infty,0)|np=k} \\mathcal{B}(n,p) \\xrightarrow{\\textit{d}} \\mathcal{P}(\\lambda=np)$$\n",
    "\n",
    "To see that this is the case use the binomial function to see this theorem.\n",
    "1. Test for different values of $n$ and $p$ and see how these affect the shape of the binomial distribution.\n",
    "2. plot the Poisson distribution with the respective parameter and see how they resemble. to compare them plot both on the same plot and use the parameter ``alpha`` in the function plot to change the transparency\n",
    "```python\n",
    "plt.hist(binomial_distribution,bins=100)\n",
    "plt.hist(Poisson_distribution,bins=100,alpha=0.5)\n",
    "plt.show()\n",
    "```"
   ]
  },
  {
   "cell_type": "markdown",
   "metadata": {},
   "source": [
    "# Exercise 4\n",
    "Assume that $X$ is a random variable that takes values in the set $\\{0,1, \\dots, n-1\\}$. \n",
    "Write a function that receives $P(X)$ and calculates $E[X^2]$, name this function ``Expected``. to check if your fucntion is working or not run the next function\n",
    "```python\n",
    "def test1():\n",
    "    px = np.array([ 0.01720472,  0.23565573,  0.7425048 ,  0.68060143,  0.25665851])\n",
    "    res = 13.437623957331406\n",
    "    ans = Expected(px)\n",
    "    return (abs(res-ans) < 0.00001)\n",
    "test1()\n",
    "```\n",
    "It will return ``True`` if it is correct ``False`` otherwise"
   ]
  },
  {
   "cell_type": "markdown",
   "metadata": {},
   "source": [
    "# Exercise 5 (Try something harder)\n",
    "\n",
    "A player tosses 5 coins into the air. The player gains $1$ dollar per each head that is obtained. However, she will lose $B$ dollars if None is a head. Write a function that given $p_0$, the probability of obtaining a head, calculates the maximum value of $B$ such that the game is not unfavorable for the player. Name this function probability. Run the next function to check if your code is working or not.\n",
    "\n",
    "```python\n",
    "def test2():\n",
    "    p0 = 0.7\n",
    "    res = 1440.3292181069949\n",
    "    ans = p2(p0)\n",
    "    return (abs(res-ans) < 0.001)\n",
    "test2()\n",
    "```"
   ]
  }
 ],
 "metadata": {
  "kernelspec": {
   "display_name": "Python 3",
   "language": "python",
   "name": "python3"
  },
  "language_info": {
   "codemirror_mode": {
    "name": "ipython",
    "version": 3
   },
   "file_extension": ".py",
   "mimetype": "text/x-python",
   "name": "python",
   "nbconvert_exporter": "python",
   "pygments_lexer": "ipython3",
   "version": "3.7.1"
  },
  "nbTranslate": {
   "displayLangs": [
    "*"
   ],
   "hotkey": "alt-t",
   "langInMainMenu": true,
   "sourceLang": "en",
   "targetLang": "fr",
   "useGoogleTranslate": true
  },
  "toc": {
   "base_numbering": 1,
   "nav_menu": {},
   "number_sections": true,
   "sideBar": true,
   "skip_h1_title": false,
   "title_cell": "Table of Contents",
   "title_sidebar": "Contents",
   "toc_cell": false,
   "toc_position": {},
   "toc_section_display": true,
   "toc_window_display": false
  },
  "varInspector": {
   "cols": {
    "lenName": 16,
    "lenType": 16,
    "lenVar": 40
   },
   "kernels_config": {
    "python": {
     "delete_cmd_postfix": "",
     "delete_cmd_prefix": "del ",
     "library": "var_list.py",
     "varRefreshCmd": "print(var_dic_list())"
    },
    "r": {
     "delete_cmd_postfix": ") ",
     "delete_cmd_prefix": "rm(",
     "library": "var_list.r",
     "varRefreshCmd": "cat(var_dic_list()) "
    }
   },
   "types_to_exclude": [
    "module",
    "function",
    "builtin_function_or_method",
    "instance",
    "_Feature"
   ],
   "window_display": false
  }
 },
 "nbformat": 4,
 "nbformat_minor": 2
}
