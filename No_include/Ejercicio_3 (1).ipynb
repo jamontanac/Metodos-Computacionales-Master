{
 "cells": [
  {
   "cell_type": "markdown",
   "metadata": {},
   "source": [
    "# Decaimiento radiactivo\n",
    "\n",
    "Existen muchos modelos de decaimiento radiactivo, sin embargo, uno de los más sencillos es el considerar que la cantidad de material radioactivo decae de forma proporcional a la cantidad que tenga en un tiempo $t$. esto puede ser escrito de forma sencilla en el siguiente modelo:\n",
    "$$\\frac{\\Delta N(t)}{\\Delta t}\\rightarrow\\frac{dN}{dt}=\\lambda N$$\n",
    "Esta ecuación resulta de un promedio sobre un conjunto de atomos (Ensamble), esto se tiene para el caso en el que el numero de partículas $N\\to\\infty$ y el intervalo de observación $\\Delta t \\to 0$. La ecuación del modelo puede ser integrada y esta da como resultado algo llamado la ley expoenecial de decaimiento de los núcleos."
   ]
  },
  {
   "cell_type": "markdown",
   "metadata": {},
   "source": [
    "El siguiente programa efectua una simulación de del decaimiento de un nucleo.\n",
    "\n",
    "Tomado de del libro A Survey of Computational Physics Introductory Computational Science de Landau, Paez, Bordeianu (Python Multimodal eTextBook Beta4.0)"
   ]
  },
  {
   "cell_type": "code",
   "execution_count": 2,
   "metadata": {},
   "outputs": [],
   "source": [
    "import numpy as np\n",
    "import matplotlib.pylab as plt \n",
    "import random"
   ]
  },
  {
   "cell_type": "code",
   "execution_count": 5,
   "metadata": {},
   "outputs": [],
   "source": [
    "Lambda = 0.001 # Decay c o n s t a n t\n",
    "maximum = 200. ; timemax = 500 # Pa rams\n",
    "number = nloop = maximum # I n i t i a l v a l u e\n",
    "lambda1 = 0.001\n",
    "maximum = 200. ; timemax = 500\n",
    "number = nloop = maximum\n",
    "for time in range(0 , timemax + 1 ) : # Time l o o p\n",
    "    for atom in range(1 , int(number) + 1 ) : # Decay l o o p\n",
    "        decay = random.random( )\n",
    "        if(decay < Lambda):\n",
    "            nloop +=  -1\n",
    "        number = nloop"
   ]
  },
  {
   "cell_type": "markdown",
   "metadata": {},
   "source": [
    "El programa anterior simula el numero de atomos en un nucleo en función del tiempo a partir de la generación de números aleatorios con distribución uniforme.\n",
    "# Ejercicio 1\n",
    "Modifique el codigo anterior para guardar los valores que se obtienen de tiempo y numero de atomos en el nucleo, prepare una gráfica en donde muestre cual es el comportamiento que tiene el número de atomos en función del tiempo."
   ]
  },
  {
   "cell_type": "code",
   "execution_count": null,
   "metadata": {},
   "outputs": [],
   "source": []
  },
  {
   "cell_type": "markdown",
   "metadata": {},
   "source": [
    "# Ejercicio 2\n",
    "Modifique el codigo efectuado en el ejercicio 1 con el fin de que no sólo se efectue el comportamiento de 1 nucleo si no que se efectue un ensamble de 1000 posibles comportamientos del número de atomos en el nucleo.\n",
    "Efectue un promedio de todos los valores obtenidos para cada trayectoria y prepare una gráfica con el comportamiento del promedio."
   ]
  },
  {
   "cell_type": "code",
   "execution_count": null,
   "metadata": {},
   "outputs": [],
   "source": []
  },
  {
   "cell_type": "markdown",
   "metadata": {},
   "source": [
    "# Ejercicio 3\n",
    "Tome una trayectoria de su preferencia y tome el logaritmo  del numero de atomos en el nucleo y grafique estos resultados, intente recrear la figura 5.5 del libro guia."
   ]
  },
  {
   "cell_type": "code",
   "execution_count": null,
   "metadata": {},
   "outputs": [],
   "source": []
  },
  {
   "cell_type": "markdown",
   "metadata": {},
   "source": [
    "# Ejercicio 4\n",
    "\n",
    "Genere una gráfica en donde muestre que para distintos valores de $N(0)$ en el tiempo inicial, el comportamiento de $\\ln(N(t)$ vs $t$ es invariante ante la escogencia de $N(0)$ "
   ]
  },
  {
   "cell_type": "code",
   "execution_count": null,
   "metadata": {},
   "outputs": [],
   "source": []
  },
  {
   "cell_type": "markdown",
   "metadata": {},
   "source": [
    "# Ejercicio 5\n",
    "\n",
    "La función de autocorrelación se define como la correlación cruzada de la señal consigo misma. \n",
    "Esta función resulta de gran utilidad para encontrar patrones repetitivos dentro de una señal, como la periodicidad de una señal enmascarada bajo el ruido o para identificar la frecuencia fundamental de una señal que no contiene dicha componente, pero aparecen numerosas frecuencias armónicas de esta.\n",
    "\n",
    "Esta función está dada por:\n",
    "\n",
    "\n",
    "\\begin{equation}\n",
    "\\varphi(i)=\\frac{1}{N}\\sum_{j=1}^{N} \\left(x_j - \\langle X\\rangle\\right)\\left(x_{i+j}-\\langle X\\rangle\\right) \\tag{D2}\n",
    "\\end{equation}\n",
    "\n",
    "Y tiene la propiedad de que si se cumple:\n",
    "\\begin{equation}\n",
    "\\varphi(i=0)=\\frac{1}{N}\\sum_{j=1}^{N} \\left(x_j - \\langle X\\rangle\\right)^2=\\langle x_j - \\langle X\\rangle\\rangle^2=\\sigma^2\\tag{D3}\n",
    "\\end{equation}\n",
    "\n",
    "\\begin{equation}\n",
    "\\varphi(i\\ne 0)= \\langle x_j - \\langle X\\rangle\\rangle\\langle x_{i\\ne j} - \\langle X\\rangle\\rangle=0\\hspace{5mm}\n",
    "(\\rightarrow{\\rm White\\ noise})\\hspace{-12mm}\n",
    "\\tag{D4}\n",
    "\\end{equation}\n",
    "\n",
    "se denomina que el proceso estocastico es un ruido blanco o que no tiene correlación alguna más que en el momento en el que este fue generado.\n",
    "\n",
    "Haciendo uso de la función de ``numpy`` \"correlate\" calcule la función de correlación para una secuencia de puntos generados a partir de una distribución uniforme."
   ]
  },
  {
   "cell_type": "code",
   "execution_count": null,
   "metadata": {},
   "outputs": [],
   "source": []
  },
  {
   "cell_type": "code",
   "execution_count": null,
   "metadata": {},
   "outputs": [],
   "source": []
  },
  {
   "cell_type": "code",
   "execution_count": null,
   "metadata": {},
   "outputs": [],
   "source": []
  },
  {
   "cell_type": "code",
   "execution_count": null,
   "metadata": {},
   "outputs": [],
   "source": []
  },
  {
   "cell_type": "code",
   "execution_count": null,
   "metadata": {},
   "outputs": [],
   "source": []
  },
  {
   "cell_type": "code",
   "execution_count": null,
   "metadata": {},
   "outputs": [],
   "source": []
  },
  {
   "cell_type": "code",
   "execution_count": null,
   "metadata": {},
   "outputs": [],
   "source": []
  },
  {
   "cell_type": "code",
   "execution_count": null,
   "metadata": {},
   "outputs": [],
   "source": []
  },
  {
   "cell_type": "code",
   "execution_count": null,
   "metadata": {},
   "outputs": [],
   "source": []
  },
  {
   "cell_type": "code",
   "execution_count": null,
   "metadata": {},
   "outputs": [],
   "source": []
  },
  {
   "cell_type": "code",
   "execution_count": null,
   "metadata": {},
   "outputs": [],
   "source": []
  }
 ],
 "metadata": {
  "kernelspec": {
   "display_name": "Python 3",
   "language": "python",
   "name": "python3"
  },
  "language_info": {
   "codemirror_mode": {
    "name": "ipython",
    "version": 3
   },
   "file_extension": ".py",
   "mimetype": "text/x-python",
   "name": "python",
   "nbconvert_exporter": "python",
   "pygments_lexer": "ipython3",
   "version": "3.7.1"
  },
  "toc": {
   "base_numbering": 1,
   "nav_menu": {},
   "number_sections": true,
   "sideBar": true,
   "skip_h1_title": false,
   "title_cell": "Table of Contents",
   "title_sidebar": "Contents",
   "toc_cell": false,
   "toc_position": {},
   "toc_section_display": true,
   "toc_window_display": false
  },
  "varInspector": {
   "cols": {
    "lenName": 16,
    "lenType": 16,
    "lenVar": 40
   },
   "kernels_config": {
    "python": {
     "delete_cmd_postfix": "",
     "delete_cmd_prefix": "del ",
     "library": "var_list.py",
     "varRefreshCmd": "print(var_dic_list())"
    },
    "r": {
     "delete_cmd_postfix": ") ",
     "delete_cmd_prefix": "rm(",
     "library": "var_list.r",
     "varRefreshCmd": "cat(var_dic_list()) "
    }
   },
   "types_to_exclude": [
    "module",
    "function",
    "builtin_function_or_method",
    "instance",
    "_Feature"
   ],
   "window_display": false
  }
 },
 "nbformat": 4,
 "nbformat_minor": 2
}
