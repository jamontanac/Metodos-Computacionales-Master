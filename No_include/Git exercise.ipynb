{
 "cells": [
  {
   "cell_type": "markdown",
   "metadata": {},
   "source": [
    "# What is a Git repository?\n",
    "A Git repository is a virtual storage of your project. It allows you to save versions of your code, which you can access when needed.\n",
    "\n",
    "# start a new Repository (git init)\n",
    "to create a new repository you'll use the command ``git init`` this is a one time command (it is important!!) and you use it only when you first set up. (don't do this in your home directory, always create it inside a specific folder)\n",
    "\n",
    "# Cloning an existing repository: git clone\n",
    "If a project has already been set up in a repository, the clone command is the most common way for users to obtain a local development clone. Just like git init, cloning is generally a one-time operation.\n",
    "## Important note:\n",
    "take into account that if you use binder, binder is a copy of a repository that already exist so you can either put your own binder in your own repository or if you use the repository of someone else you will need to delete that git and then start a new one\n",
    "\n",
    "# Saving changes to the repository: git add and git commit\n",
    "\n",
    "Now that you have a repository cloned or initialized, you can commit file version changes to it. The following example assumes you have set up a project at /path/to/project. The steps being taken in this example are:\n",
    "\n",
    "* Change directories to /path/to/project\n",
    "* Create a new file CommitTest.txt with contents ~\"test content for git tutorial\"~\n",
    "* git add CommitTest.txt to the repository staging area\n",
    "* Create a new commit with a message describing what work was done in the commit (git commit -m)\n",
    "\n",
    "After executing this example, your repo will now have CommitTest.txt added to the history and will track future updates to the file.\n",
    "\n",
    "# Configuration & set up: git config\n",
    "\n",
    "Once you have a remote repo setup, you will need to add a remote repo url to your local git config, and set an upstream branch for your local branches. The git remote command offers such utility.\n",
    "```bash\n",
    "git remote add <remote_name> <remote_repo_url>\n",
    "```\n",
    "This command will map remote repository at <remote_repo_url> to a ref in your local repo under <remote_name>. Once you have mapped the remote repo you can push local branches to it.\n",
    "```bash\n",
    "git push -u <remote_name> <local_branch_name>\n",
    "```\n",
    "This command will push the local repo branch under <local_branc_name> to the remote repo at <remote_name>.\n",
    "\n",
    "In addition to configuring a remote repo URL, you may also need to set global Git configuration options such as username, or email. The git config command lets you configure your Git installation (or an individual repository) from the command line. This command can define everything from user info, to preferences, to the behavior of a repository. Several common configuration options are listed below.\n",
    "\n",
    "Git stores configuration options in three separate files, which lets you scope options to individual repositories (local), user (Global), or the entire system (system):\n",
    "\n",
    "* Local: <repo>/.git/config - Repository-specific settings.\n",
    "* Global: /.gitconfig - User-specific settings. This is where options set with the --global flag are stored.\n",
    "* System: $(prefix)/etc/gitconfig - System-wide settings.\n",
    "\n",
    "Define the author name to be used for all commits in the current repository. Typically, you’ll want to use the --global flag to set configuration options for the current user.\n",
    "```bash\n",
    "git config --global user.name <name>\n",
    "```\n",
    "Define the author name to be used for all commits by the current user.\n",
    "\n",
    "Adding the --local option or not passing a config level option at all, will set the user.name for the current local repository.\n",
    "```bash\n",
    "git config --local user.email <email>\n",
    "```\n",
    "Define the author email to be used for all commits by the current user.\n",
    "\n",
    "# Discussion\n",
    "\n",
    "All configuration options are stored in plaintext files, so the git config command is really just a convenient command-line interface. Typically, you’ll only need to configure a Git installation the first time you start working on a new development machine, and for virtually all cases, you'll want to use the --global flag. One important exception is to override the author email address. You may wish to set your personal email address for personal and open source repositories, and your professional email address for work-related repositories.\n",
    "\n",
    "Git stores configuration options in three separate files, which lets you scope options to individual repositories, users, or the entire system:\n",
    "\n",
    "* <repo>/.git/config - Repository-specific settings.\n",
    "* ~/.gitconfig - User-specific settings. This is where options set with the --global flag are stored.\n",
    "* $(prefix)/etc/gitconfig - System-wide settings.\n",
    "\n",
    "When options in these files conflict, local settings override user settings, which override system-wide. If you open any of these files, you’ll see something like the following:\n",
    "\n",
    "```bash\n",
    "[user] name = John Smith email = john@example.com \n",
    "[alias] st = status co = checkout br = branch up = rebase ci = commit \n",
    "[core] editor = vim\n",
    "```\n",
    "You can manually edit these values to the exact same effect as git config."
   ]
  }
 ],
 "metadata": {
  "kernelspec": {
   "display_name": "Python 3",
   "language": "python",
   "name": "python3"
  },
  "language_info": {
   "codemirror_mode": {
    "name": "ipython",
    "version": 3
   },
   "file_extension": ".py",
   "mimetype": "text/x-python",
   "name": "python",
   "nbconvert_exporter": "python",
   "pygments_lexer": "ipython3",
   "version": "3.7.1"
  },
  "nbTranslate": {
   "displayLangs": [
    "*"
   ],
   "hotkey": "alt-t",
   "langInMainMenu": true,
   "sourceLang": "en",
   "targetLang": "fr",
   "useGoogleTranslate": true
  },
  "toc": {
   "base_numbering": 1,
   "nav_menu": {},
   "number_sections": true,
   "sideBar": true,
   "skip_h1_title": false,
   "title_cell": "Table of Contents",
   "title_sidebar": "Contents",
   "toc_cell": false,
   "toc_position": {},
   "toc_section_display": true,
   "toc_window_display": false
  },
  "varInspector": {
   "cols": {
    "lenName": 16,
    "lenType": 16,
    "lenVar": 40
   },
   "kernels_config": {
    "python": {
     "delete_cmd_postfix": "",
     "delete_cmd_prefix": "del ",
     "library": "var_list.py",
     "varRefreshCmd": "print(var_dic_list())"
    },
    "r": {
     "delete_cmd_postfix": ") ",
     "delete_cmd_prefix": "rm(",
     "library": "var_list.r",
     "varRefreshCmd": "cat(var_dic_list()) "
    }
   },
   "types_to_exclude": [
    "module",
    "function",
    "builtin_function_or_method",
    "instance",
    "_Feature"
   ],
   "window_display": false
  }
 },
 "nbformat": 4,
 "nbformat_minor": 2
}
