{
 "cells": [
  {
   "cell_type": "markdown",
   "metadata": {
    "slideshow": {
     "slide_type": "slide"
    }
   },
   "source": [
    "# Ordinary Differential Equations\n",
    "ODE'S are one of the most important applications in Numeric programming, since there's a huge amount of ODE's that we can not solve analytically, the numeric solutions turns out to be the best choice."
   ]
  },
  {
   "cell_type": "markdown",
   "metadata": {
    "slideshow": {
     "slide_type": "slide"
    }
   },
   "source": [
    "## Some examples:\n",
    "$$F_k(x)+F_{ext}(x,t)= m \\frac{d^2x}{dt^2}$$\n",
    "$$\\frac{dy}{dt}=f(t,y) \\qquad \\frac{\\mathrm{d} y}{\\mathrm{d} t}=-3 t^{2} y+t^{9}+y^{7} $$\n",
    "$$\\frac{\\mathrm{d}^{2} y}{\\mathrm{d} t^{2}}+\\lambda \\frac{\\mathrm{d} y}{\\mathrm{d} t}=-3 t^{2}\\left(\\frac{\\mathrm{d} y}{\\mathrm{d} t}\\right)^{4}+t^{9} y(t) \\qquad \\frac{\\mathrm{d}^{2} y}{\\mathrm{d} t^{2}}+\\lambda \\frac{\\mathrm{d} y}{\\mathrm{d} t}=f\\left(t, \\frac{\\mathrm{d} y}{\\mathrm{d} t}, y\\right) $$"
   ]
  },
  {
   "cell_type": "markdown",
   "metadata": {
    "slideshow": {
     "slide_type": "slide"
    }
   },
   "source": [
    "$$\\mathrm{i} \\hbar \\frac{\\partial \\psi(\\boldsymbol{x}, t)}{\\partial t}=-\\frac{\\hbar^{2}}{2 m}\\left[\\frac{\\partial^{2} \\psi}{\\partial x^{2}}+\\frac{\\partial^{2} \\psi}{\\partial y^{2}}+\\frac{\\partial^{2} \\psi}{\\partial z^{2}}\\right]+V(\\boldsymbol{x}) \\psi(\\boldsymbol{x}, t)$$\n",
    "\n",
    "$$ \\frac{\\mathrm{d} y}{\\mathrm{d} t}=g^{3}(t) y(t) \\quad \\text { (linear) }, \\quad \\frac{\\mathrm{d} y}{\\mathrm{d} t}=\\lambda y(t)-\\lambda^{2} y^{2}(t) \\quad \\text { (nonlinear) } $$"
   ]
  },
  {
   "cell_type": "markdown",
   "metadata": {
    "slideshow": {
     "slide_type": "slide"
    }
   },
   "source": [
    "# system of ODE\n",
    "$$\\begin{array}{c}{\\frac{d y^{(0)}}{d t}=f^{(0)}\\left(t, y^{(i)}\\right)} \\\\ {\\frac{d y^{(1)}}{d t}=f^{(1)}\\left(t, y^{(i)}\\right)} \\\\ {\\ddots} \\\\ {\\ddots} \\\\ {\\frac{d y^{(N-1)}}{d t}=f^{(N-1)}\\left(t, y^{(i)}\\right)}\\end{array}$$\n",
    "\n",
    "* Every high order system can be transformed into a coupled one order system. Example: Newton law and Hamilton equations"
   ]
  },
  {
   "cell_type": "markdown",
   "metadata": {
    "slideshow": {
     "slide_type": "slide"
    }
   },
   "source": [
    "$$d \\mathbf{y}(t) / d t=\\mathbf{f}(t, \\mathbf{y})$$\n",
    "\n",
    "$$\\mathbf{y}=\\left(\\begin{array}{c}{d \\mathbf{y}(t) / d t=\\mathbf{f}(t, \\mathbf{y})} \\\\ {y^{(0)}(t)} \\\\ {\\ddots} \\\\ {y^{(N-1)}(t)}\\end{array}\\right) \\quad \\mathbf{f}=\\left(\\begin{array}{c}{f^{(0)}(t, \\mathbf{y})} \\\\ {f^{(1)}(t, \\mathbf{y})} \\\\ {\\ddots} \\\\ {f^{(N-1)}(t, \\mathbf{y})}\\end{array}\\right)$$"
   ]
  },
  {
   "cell_type": "markdown",
   "metadata": {
    "slideshow": {
     "slide_type": "slide"
    }
   },
   "source": [
    "# Example with Newton's law\n",
    "$$\\frac{d^{2} x}{d t^{2}}=\\frac{1}{m} F\\left(t, \\frac{d x}{d t}, x\\right)$$\n",
    "\n",
    "$$y^{(0)}(t) \\stackrel{\\text { def }}{=} x(t), \\quad y^{(1)}(t) \\stackrel{\\text { def }}{=} \\frac{d x}{d t}=\\frac{d y^{(0)}}{d t}$$\n",
    "\n",
    "$$\\frac{d y^{(0)}}{d t}=y^{(1)}(t), \\quad \\frac{d y^{(1)}}{d t}=\\frac{1}{m} F\\left(t, y^{(0)}, y^{(1)}\\right)$$\n",
    "\n",
    "\n",
    "![image](https://raw.githubusercontent.com/JoseMontanaC/Laboratorio-Metodos-Computacionales/master/ODE_picture.PNG)"
   ]
  },
  {
   "cell_type": "markdown",
   "metadata": {
    "slideshow": {
     "slide_type": "slide"
    }
   },
   "source": [
    "# Euler Method ([ref](https://en.wikipedia.org/wiki/Euler_method))\n",
    "$$\\begin{aligned} \\frac{d \\mathbf{y}(t)}{d t} & \\simeq \\frac{\\mathbf{y}\\left(t_{n+1}\\right)-\\mathbf{y}\\left(t_{n}\\right)}{h}=\\mathbf{f}(t, \\mathbf{y}) \\\\ \\mathbf{y}_{n+1} & \\simeq \\mathbf{y}_{n}+h \\mathbf{f}\\left(t_{n}, \\mathbf{y}_{n}\\right) \\end{aligned}$$\n",
    "\n",
    "![imagen](https://raw.githubusercontent.com/JoseMontanaC/Laboratorio-Metodos-Computacionales/master/Euler_picture.PNG)\n",
    "\n",
    "* Local error $O(h^2)$\n",
    "* Global error $O(h)$\n",
    "\n",
    "## Exercise\n",
    "Implement your own Euler method in c++"
   ]
  },
  {
   "cell_type": "markdown",
   "metadata": {
    "slideshow": {
     "slide_type": "slide"
    }
   },
   "source": [
    "# Runge-Kutta 4 Order\n",
    "\n",
    "$$\\mathrm{y}_{n+1}=\\mathrm{y}_{n}+\\frac{1}{6}\\left(\\mathrm{k}_{1}+2 \\mathrm{k}_{2}+2 \\mathrm{k}_{3}+\\mathrm{k}_{4}\\right)$$\n",
    "\n",
    "$$ \\mathbf{k}_{1}=h \\mathbf{f}\\left(t_{n}, \\mathbf{y}_{n}\\right), \\qquad \\mathbf{k}_{2}=h \\mathbf{f}\\left(t_{n}+\\frac{h}{2}, \\mathbf{y}_{n}+\\frac{\\mathbf{k}_{1}}{2}\\right)$$\n",
    "\n",
    "$$\\mathbf{k}_{3}=h \\mathbf{f}\\left(t_{n}+\\frac{h}{2}, \\mathbf{y}_{n}+\\frac{\\mathbf{k}_{2}}{2}\\right), \\qquad \\mathrm{k}_{4}=h \\mathrm{f}\\left(t_{n}+h, \\mathrm{y}_{n}+\\mathrm{k}_{3}\\right)$$"
   ]
  },
  {
   "cell_type": "markdown",
   "metadata": {
    "slideshow": {
     "slide_type": "slide"
    }
   },
   "source": [
    "# Example\n",
    "We are going to solve a simple problem using Runge-kutta method\n",
    "$$\n",
    "m \\ddot{x}=-k x^{\\lambda}\n",
    "$$\n",
    "\n",
    "$$x=y_{n}^{(0)} \\quad \\dot{x}=\\dot{y}_{n}^{(0)}=y_{n}^{(1)} \\quad \\dot{y}_{n}^{(1)}=\\frac{-k}{m}\\left(y_{n}^{(0)}\\right)^{\\lambda}$$\n",
    "\n",
    "# Exercise\n",
    "\n",
    "* Write a program with a function that returns $\\dot{y}_n^{(0)}$ given $y_n^{(0)} and $y_n^{(1)}$\n",
    "\n",
    "* add a function that returns $\\dot{y}_n^{(1)}$ given $y_n^{(0)}$ and $y_n^{(1)}$\n",
    "\n",
    "* Implement a 4 order Runge-Kutta method as a function that returns the next values of $y_n^{(0)}$, $y_n^{(1)}$"
   ]
  },
  {
   "cell_type": "markdown",
   "metadata": {
    "slideshow": {
     "slide_type": "slide"
    }
   },
   "source": [
    "# Solution\n",
    "```c++\n",
    "#include <iostream>\n",
    "#include <cmath>\n",
    "using namespace std;\n",
    "double f0(double t, double y0, double y1); //Returns derivative of y0\n",
    "double f1(double t, double y0, double y1); //Returns derivative of y1\n",
    "\n",
    "const double K = 100;\n",
    "const double M = 2;\n",
    "const double LAMBDA = 1;\n",
    "const double DeltaT = 0.01;\n",
    "\n",
    "int main(void)\n",
    "{\n",
    "    return 0;\n",
    "}\n",
    "\n",
    "double f0(double t, double y0, double y1)\n",
    "{\n",
    "  return y1;\n",
    "}\n",
    "\n",
    "double f1(double t, double y0, double y1)\n",
    "{\n",
    "  return (-K/M)*pow(y0, LAMBDA);\n",
    "}\n",
    "```"
   ]
  },
  {
   "cell_type": "markdown",
   "metadata": {
    "slideshow": {
     "slide_type": "slide"
    }
   },
   "source": [
    "# implementation Runge-kutta 4 order\n",
    "\n",
    "```c++\n",
    "void rk4(double t, double h, double & y0, double & y1) // metodo de runge kutta 4 orden\n",
    "{\n",
    "  double k10, k11, k20, k21, k30, k31, k40, k41;\n",
    "  k10 = h*f0(t, y0, y1);\n",
    "  k11 = h*f1(t, y0, y1);\n",
    "  k20 = h*f0(t+h/2, y0 + k10/2, y1 + k11/2);\n",
    "  k21 = h*f1(t+h/2, y0 + k10/2, y1 + k11/2);\n",
    "  k30 = h*f0(t+h/2, y0 + k20/2, y1 + k21/2);\n",
    "  k31 = h*f1(t+h/2, y0 + k20/2, y1 + k21/2);\n",
    "  k40 = h*f0(t + h, y0 + k30, y1 + k31);\n",
    "  k41 = h*f1(t + h, y0 + k30, y1 + k31);\n",
    "\n",
    "  y0 = y0 + (1.0/6.0)*(k10 + 2*k20 + 2*k30 + k40);\n",
    "  y1 = y1 + (1.0/6.0)*(k11 + 2*k21 + 2*k31 + k41);\n",
    "}\n",
    "```"
   ]
  },
  {
   "cell_type": "markdown",
   "metadata": {
    "slideshow": {
     "slide_type": "slide"
    }
   },
   "source": [
    "# Implementation of the whole code [link](https://raw.githubusercontent.com/JoseMontanaC/Laboratorio-Metodos-Computacionales/master/c_tests/Rungekutta.cpp)\n",
    "```c++\n",
    "#include <iostream>\n",
    "#include <cmath>\n",
    "using namespace std;\n",
    "\n",
    "// variable constantes globales\n",
    "const double K = 100;\n",
    "const double M = 2;\n",
    "const double LAMBDA = 1;\n",
    "const double DeltaT = 0.01;\n",
    "\n",
    "// declaracion de funciones\n",
    "double f0(double t, double y0, double y1); // derivada de y0\n",
    "double f1(double t, double y0, double y1); // derivada de y1\n",
    "void rk4(double t, double h, double & y0, double & y1); // metodo de runge kutta 4 orden\n",
    "\n",
    "int main(void)\n",
    "{\n",
    "  double x, v, time;\n",
    "  x = 1;\n",
    "  v = 0;\n",
    "  for(time = 0; time <= 10; time += DeltaT) {\n",
    "    cout << time << \"\\t\" << x << \"\\t\" << v << endl;\n",
    "    rk4(time, DeltaT, x, v);\n",
    "  }\n",
    "\n",
    "\n",
    "  return 0;\n",
    "}\n",
    "```"
   ]
  },
  {
   "cell_type": "markdown",
   "metadata": {
    "slideshow": {
     "slide_type": "subslide"
    }
   },
   "source": [
    "```c++\n",
    "double f0(double t, double y0, double y1)\n",
    "{\n",
    "  return y1;\n",
    "}\n",
    "\n",
    "double f1(double t, double y0, double y1)\n",
    "{\n",
    "  return (-K/M)*pow(y0, LAMBDA);\n",
    "}\n",
    "\n",
    "void rk4(double t, double h, double & y0, double & y1) // metodo de runge kutta 4 orden\n",
    "{\n",
    "  double k10, k11, k20, k21, k30, k31, k40, k41;\n",
    "  k10 = h*f0(t, y0, y1);\n",
    "  k11 = h*f1(t, y0, y1);\n",
    "  k20 = h*f0(t+h/2, y0 + k10/2, y1 + k11/2);\n",
    "  k21 = h*f1(t+h/2, y0 + k10/2, y1 + k11/2);\n",
    "  k30 = h*f0(t+h/2, y0 + k20/2, y1 + k21/2);\n",
    "  k31 = h*f1(t+h/2, y0 + k20/2, y1 + k21/2);\n",
    "  k40 = h*f0(t + h, y0 + k30, y1 + k31);\n",
    "  k41 = h*f1(t + h, y0 + k30, y1 + k31);\n",
    "\n",
    "  y0 = y0 + (1.0/6.0)*(k10 + 2*k20 + 2*k30 + k40);\n",
    "  y1 = y1 + (1.0/6.0)*(k11 + 2*k21 + 2*k31 + k41);\n",
    "}\n",
    "```"
   ]
  },
  {
   "cell_type": "markdown",
   "metadata": {
    "slideshow": {
     "slide_type": "slide"
    }
   },
   "source": [
    "# Note\n",
    "Here we solved the problem for two variables, however, from time to time we have to deal with problems that involves many variables therefore the implementation by hand can be quite annoying, so [here](https://raw.githubusercontent.com/JoseMontanaC/Laboratorio-Metodos-Computacionales/master/c_tests/Rungekutta_Nvars.cpp) i implemented a code in c++ that can handle N different variables. I hope it can be useful for the future, take a look at it."
   ]
  },
  {
   "cell_type": "markdown",
   "metadata": {
    "slideshow": {
     "slide_type": "slide"
    }
   },
   "source": [
    " \n",
    "# Exercise\n",
    "You will need Python or other software to plot the solutions.\n",
    "1. Solve the system for $\\lambda=1$, What kind of equation you get?\n",
    "2. What kind of solutions are you expecting?\n",
    "3. Test your function of Euler to solve this equation and let it evolve for a given time (maybe 1000 computational times), print the value of $t$, $y_n^{(0)}$, $y_n^{(1)}$ at every step and save a file with this information.\n",
    "4. What do you see that it happens, how is the solution of the $y_n^{(0)}$ as a function of time?\n",
    "5. Now use the Runge-kutta solution and let it evolve the same quantity of time. export the data to a file and plot it. What can you conclude from both implementations.\n",
    "6. Now plot the solution of $y_n^{(0)}$ vs $y_n^{(1)}$, what do you expect to see? what do you see and what does it mean?\n",
    "7. Now include a term of friction in the Differential equation.\n",
    "$$ f_{fric}=-\\gamma v $$\n",
    "8. Test with different values of $\\lambda$ (just with Rungekutta), what can you say about the power used in $\\lambda$"
   ]
  },
  {
   "cell_type": "markdown",
   "metadata": {
    "ExecuteTime": {
     "end_time": "2019-11-12T15:54:09.536663Z",
     "start_time": "2019-11-12T15:54:09.514746Z"
    },
    "slideshow": {
     "slide_type": "slide"
    }
   },
   "source": [
    "# Coming next week...\n",
    "\n",
    "* __Symplectic integrators (Euler cromberg), Example of forced pendulum, transition to chaos in this system (Lyapunov exponent, Poincaré Sections) .__\n",
    "\n",
    "* __Maps and bifurcation diagrams__"
   ]
  },
  {
   "cell_type": "code",
   "execution_count": 2,
   "metadata": {
    "ExecuteTime": {
     "end_time": "2019-11-12T15:56:38.185538Z",
     "start_time": "2019-11-12T15:56:38.164561Z"
    },
    "slideshow": {
     "slide_type": "skip"
    }
   },
   "outputs": [
    {
     "name": "stdout",
     "output_type": "stream",
     "text": [
      "10 24 26.0\n",
      "11 60 61.0\n",
      "12 16 20.0\n",
      "12 35 37.0\n",
      "13 84 85.0\n",
      "14 48 50.0\n",
      "15 20 25.0\n",
      "15 36 39.0\n",
      "16 30 34.0\n",
      "16 63 65.0\n",
      "18 24 30.0\n",
      "18 80 82.0\n",
      "20 21 29.0\n",
      "20 48 52.0\n",
      "20 99 101.0\n",
      "21 28 35.0\n",
      "21 72 75.0\n",
      "24 32 40.0\n",
      "24 45 51.0\n",
      "24 70 74.0\n",
      "25 60 65.0\n",
      "27 36 45.0\n",
      "28 45 53.0\n",
      "28 96 100.0\n",
      "30 40 50.0\n",
      "30 72 78.0\n",
      "32 60 68.0\n",
      "33 44 55.0\n",
      "33 56 65.0\n",
      "35 84 91.0\n",
      "36 48 60.0\n",
      "36 77 85.0\n",
      "39 52 65.0\n",
      "39 80 89.0\n",
      "40 42 58.0\n",
      "40 75 85.0\n",
      "40 96 104.0\n",
      "42 56 70.0\n",
      "45 60 75.0\n",
      "48 55 73.0\n",
      "48 64 80.0\n",
      "48 90 102.0\n",
      "51 68 85.0\n",
      "54 72 90.0\n",
      "56 90 106.0\n",
      "57 76 95.0\n",
      "60 63 87.0\n",
      "60 80 100.0\n",
      "60 91 109.0\n",
      "63 84 105.0\n",
      "65 72 97.0\n",
      "66 88 110.0\n",
      "69 92 115.0\n",
      "72 96 120.0\n",
      "80 84 116.0\n"
     ]
    }
   ],
   "source": [
    "import numpy as np\n",
    "for i in range(10,100):\n",
    "    for j in range(i,100):\n",
    "        if np.sqrt(i**2 + j**2)%1==0:\n",
    "            print(i,j,np.sqrt(i**2 + j**2))"
   ]
  }
 ],
 "metadata": {
  "celltoolbar": "Slideshow",
  "kernelspec": {
   "display_name": "Python 3",
   "language": "python",
   "name": "python3"
  },
  "language_info": {
   "codemirror_mode": {
    "name": "ipython",
    "version": 3
   },
   "file_extension": ".py",
   "mimetype": "text/x-python",
   "name": "python",
   "nbconvert_exporter": "python",
   "pygments_lexer": "ipython3",
   "version": "3.7.1"
  },
  "nbTranslate": {
   "displayLangs": [
    "*"
   ],
   "hotkey": "alt-t",
   "langInMainMenu": true,
   "sourceLang": "en",
   "targetLang": "fr",
   "useGoogleTranslate": true
  },
  "toc": {
   "base_numbering": 1,
   "nav_menu": {},
   "number_sections": true,
   "sideBar": true,
   "skip_h1_title": false,
   "title_cell": "Table of Contents",
   "title_sidebar": "Contents",
   "toc_cell": false,
   "toc_position": {},
   "toc_section_display": true,
   "toc_window_display": false
  },
  "varInspector": {
   "cols": {
    "lenName": 16,
    "lenType": 16,
    "lenVar": 40
   },
   "kernels_config": {
    "python": {
     "delete_cmd_postfix": "",
     "delete_cmd_prefix": "del ",
     "library": "var_list.py",
     "varRefreshCmd": "print(var_dic_list())"
    },
    "r": {
     "delete_cmd_postfix": ") ",
     "delete_cmd_prefix": "rm(",
     "library": "var_list.r",
     "varRefreshCmd": "cat(var_dic_list()) "
    }
   },
   "types_to_exclude": [
    "module",
    "function",
    "builtin_function_or_method",
    "instance",
    "_Feature"
   ],
   "window_display": false
  }
 },
 "nbformat": 4,
 "nbformat_minor": 2
}
