{
 "cells": [
  {
   "cell_type": "markdown",
   "metadata": {},
   "source": [
    "# Ejercicio (Para calificar)\n",
    "Efectue el mismo procédimiento que en la clase pero esta vez para el data set que se encuentra [acá](http://yann.lecun.com/exdb/mnist/).\n",
    "* Calcule la matriz de covarianza (sin usar Numpy) para el dataset(utilice el que dice training).\n",
    "* Calcule los vectores y valores propios de la matriz de covarianzas de estos datos.\n",
    "* Haga una grafica de la varianza explicada por cada componente principal.\n",
    "* Indique la cantidad de componentes principales tales que se captura el 90% de la varianza.\n",
    "* Reduzca los datos de dimensionalidad y grafique las dos primeras componentes principales, coloree con la clase a la cual pertence el elemento ( archivo que dice set labels)\n",
    "* por ultimo ya con su matriz de transformacion usada para sus datos del moduo train ahora carge los datos de test y haga la transformacion ya encontrada sobre estos datos, grafique las dos primeras componentes principales y coloree por la clase. ¿ Que puede deducir de este resultado?\n",
    "\n",
    "__Nota__: No es valido utilizar ninguna librería especializada para obtener las componentes principales. Utilize lo visto en clase\n",
    "__Pista__: "
   ]
  }
 ],
 "metadata": {
  "kernelspec": {
   "display_name": "Python 3",
   "language": "python",
   "name": "python3"
  },
  "language_info": {
   "codemirror_mode": {
    "name": "ipython",
    "version": 3
   },
   "file_extension": ".py",
   "mimetype": "text/x-python",
   "name": "python",
   "nbconvert_exporter": "python",
   "pygments_lexer": "ipython3",
   "version": "3.7.1"
  },
  "nbTranslate": {
   "displayLangs": [
    "*"
   ],
   "hotkey": "alt-t",
   "langInMainMenu": true,
   "sourceLang": "en",
   "targetLang": "fr",
   "useGoogleTranslate": true
  },
  "toc": {
   "base_numbering": 1,
   "nav_menu": {},
   "number_sections": true,
   "sideBar": true,
   "skip_h1_title": false,
   "title_cell": "Table of Contents",
   "title_sidebar": "Contents",
   "toc_cell": false,
   "toc_position": {},
   "toc_section_display": true,
   "toc_window_display": false
  },
  "varInspector": {
   "cols": {
    "lenName": 16,
    "lenType": 16,
    "lenVar": 40
   },
   "kernels_config": {
    "python": {
     "delete_cmd_postfix": "",
     "delete_cmd_prefix": "del ",
     "library": "var_list.py",
     "varRefreshCmd": "print(var_dic_list())"
    },
    "r": {
     "delete_cmd_postfix": ") ",
     "delete_cmd_prefix": "rm(",
     "library": "var_list.r",
     "varRefreshCmd": "cat(var_dic_list()) "
    }
   },
   "types_to_exclude": [
    "module",
    "function",
    "builtin_function_or_method",
    "instance",
    "_Feature"
   ],
   "window_display": false
  }
 },
 "nbformat": 4,
 "nbformat_minor": 2
}
